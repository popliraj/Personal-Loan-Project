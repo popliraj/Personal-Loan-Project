{
 "cells": [
  {
   "cell_type": "markdown",
   "id": "969c9ff0",
   "metadata": {},
   "source": [
    "<br><h1 style = \"font-size:35px; font-family:Huihoo ; font-weight : bold; text-align: center; \">Python Project</h1>"
   ]
  },
  {
   "cell_type": "markdown",
   "id": "9a8419b4",
   "metadata": {},
   "source": [
    "<br><h1 style = \"font-size:35px; font-family:Garamond ; font-weight : bold; background-color: #C66363 ; color : #E8D6D8; text-align: center; border-radius: 100px 100px;\"> PERSONAL LOAN APPROVAL CLASSIFICATION </h1>"
   ]
  },
  {
   "cell_type": "markdown",
   "id": "77c88d48",
   "metadata": {},
   "source": [
    "<br><h1 style = \"font-size:35px; font-family:Huihoo ; font-weight : bold; text-align: center; \"> Logistic Regression  </h1>"
   ]
  },
  {
   "cell_type": "markdown",
   "id": "52cb171b",
   "metadata": {},
   "source": [
    "Logistic regression is a statistical model in which the response variable takes a discrete value and the\n",
    "explanatory variables can either be continuous or discrete.\n",
    "\n",
    "Assume that the outcomes are called positive (usually coded as Y = 1) and negative (usually coded as Y = 0). Then the probability that a record belongs to a positive class, P(Y = 1), using the binary logistic regression model is given by"
   ]
  },
  {
   "cell_type": "markdown",
   "id": "673991b8",
   "metadata": {},
   "source": [
    "Here X1, X2, …, Xm are the independent variables or features."
   ]
  },
  {
   "cell_type": "markdown",
   "id": "4f642c2b",
   "metadata": {},
   "source": [
    " <H2><p style=\"text-align: center;\"> Step 1: Data Collection/Extraction"
   ]
  },
  {
   "cell_type": "code",
   "execution_count": 2,
   "id": "8f8370ce",
   "metadata": {},
   "outputs": [],
   "source": [
    "import pandas as pd\n",
    "import matplotlib.pyplot as plt\n",
    "import seaborn as sns\n",
    "%matplotlib inline"
   ]
  },
  {
   "cell_type": "code",
   "execution_count": 3,
   "id": "b6fae7bd",
   "metadata": {},
   "outputs": [],
   "source": [
    "loan=pd.read_excel('Bank_PersonalLoan.xlsx')"
   ]
  },
  {
   "cell_type": "code",
   "execution_count": 4,
   "id": "61aed002",
   "metadata": {},
   "outputs": [
    {
     "data": {
      "text/html": [
       "<div>\n",
       "<style scoped>\n",
       "    .dataframe tbody tr th:only-of-type {\n",
       "        vertical-align: middle;\n",
       "    }\n",
       "\n",
       "    .dataframe tbody tr th {\n",
       "        vertical-align: top;\n",
       "    }\n",
       "\n",
       "    .dataframe thead th {\n",
       "        text-align: right;\n",
       "    }\n",
       "</style>\n",
       "<table border=\"1\" class=\"dataframe\">\n",
       "  <thead>\n",
       "    <tr style=\"text-align: right;\">\n",
       "      <th></th>\n",
       "      <th>ID</th>\n",
       "      <th>Age</th>\n",
       "      <th>Experience</th>\n",
       "      <th>Income</th>\n",
       "      <th>ZIP Code</th>\n",
       "      <th>Family</th>\n",
       "      <th>CCAvg</th>\n",
       "      <th>Education</th>\n",
       "      <th>Mortgage</th>\n",
       "      <th>Personal Loan</th>\n",
       "      <th>Securities Account</th>\n",
       "      <th>CD Account</th>\n",
       "      <th>Online</th>\n",
       "      <th>CreditCard</th>\n",
       "    </tr>\n",
       "  </thead>\n",
       "  <tbody>\n",
       "    <tr>\n",
       "      <th>0</th>\n",
       "      <td>1</td>\n",
       "      <td>25</td>\n",
       "      <td>1</td>\n",
       "      <td>49</td>\n",
       "      <td>91107</td>\n",
       "      <td>4</td>\n",
       "      <td>1.6</td>\n",
       "      <td>1</td>\n",
       "      <td>0</td>\n",
       "      <td>0</td>\n",
       "      <td>1</td>\n",
       "      <td>0</td>\n",
       "      <td>0</td>\n",
       "      <td>0</td>\n",
       "    </tr>\n",
       "    <tr>\n",
       "      <th>1</th>\n",
       "      <td>2</td>\n",
       "      <td>45</td>\n",
       "      <td>19</td>\n",
       "      <td>34</td>\n",
       "      <td>90089</td>\n",
       "      <td>3</td>\n",
       "      <td>1.5</td>\n",
       "      <td>1</td>\n",
       "      <td>0</td>\n",
       "      <td>0</td>\n",
       "      <td>1</td>\n",
       "      <td>0</td>\n",
       "      <td>0</td>\n",
       "      <td>0</td>\n",
       "    </tr>\n",
       "    <tr>\n",
       "      <th>2</th>\n",
       "      <td>3</td>\n",
       "      <td>39</td>\n",
       "      <td>15</td>\n",
       "      <td>11</td>\n",
       "      <td>94720</td>\n",
       "      <td>1</td>\n",
       "      <td>1.0</td>\n",
       "      <td>1</td>\n",
       "      <td>0</td>\n",
       "      <td>0</td>\n",
       "      <td>0</td>\n",
       "      <td>0</td>\n",
       "      <td>0</td>\n",
       "      <td>0</td>\n",
       "    </tr>\n",
       "    <tr>\n",
       "      <th>3</th>\n",
       "      <td>4</td>\n",
       "      <td>35</td>\n",
       "      <td>9</td>\n",
       "      <td>100</td>\n",
       "      <td>94112</td>\n",
       "      <td>1</td>\n",
       "      <td>2.7</td>\n",
       "      <td>2</td>\n",
       "      <td>0</td>\n",
       "      <td>0</td>\n",
       "      <td>0</td>\n",
       "      <td>0</td>\n",
       "      <td>0</td>\n",
       "      <td>0</td>\n",
       "    </tr>\n",
       "    <tr>\n",
       "      <th>4</th>\n",
       "      <td>5</td>\n",
       "      <td>35</td>\n",
       "      <td>8</td>\n",
       "      <td>45</td>\n",
       "      <td>91330</td>\n",
       "      <td>4</td>\n",
       "      <td>1.0</td>\n",
       "      <td>2</td>\n",
       "      <td>0</td>\n",
       "      <td>0</td>\n",
       "      <td>0</td>\n",
       "      <td>0</td>\n",
       "      <td>0</td>\n",
       "      <td>1</td>\n",
       "    </tr>\n",
       "    <tr>\n",
       "      <th>...</th>\n",
       "      <td>...</td>\n",
       "      <td>...</td>\n",
       "      <td>...</td>\n",
       "      <td>...</td>\n",
       "      <td>...</td>\n",
       "      <td>...</td>\n",
       "      <td>...</td>\n",
       "      <td>...</td>\n",
       "      <td>...</td>\n",
       "      <td>...</td>\n",
       "      <td>...</td>\n",
       "      <td>...</td>\n",
       "      <td>...</td>\n",
       "      <td>...</td>\n",
       "    </tr>\n",
       "    <tr>\n",
       "      <th>4995</th>\n",
       "      <td>4996</td>\n",
       "      <td>29</td>\n",
       "      <td>3</td>\n",
       "      <td>40</td>\n",
       "      <td>92697</td>\n",
       "      <td>1</td>\n",
       "      <td>1.9</td>\n",
       "      <td>3</td>\n",
       "      <td>0</td>\n",
       "      <td>0</td>\n",
       "      <td>0</td>\n",
       "      <td>0</td>\n",
       "      <td>1</td>\n",
       "      <td>0</td>\n",
       "    </tr>\n",
       "    <tr>\n",
       "      <th>4996</th>\n",
       "      <td>4997</td>\n",
       "      <td>30</td>\n",
       "      <td>4</td>\n",
       "      <td>15</td>\n",
       "      <td>92037</td>\n",
       "      <td>4</td>\n",
       "      <td>0.4</td>\n",
       "      <td>1</td>\n",
       "      <td>85</td>\n",
       "      <td>0</td>\n",
       "      <td>0</td>\n",
       "      <td>0</td>\n",
       "      <td>1</td>\n",
       "      <td>0</td>\n",
       "    </tr>\n",
       "    <tr>\n",
       "      <th>4997</th>\n",
       "      <td>4998</td>\n",
       "      <td>63</td>\n",
       "      <td>39</td>\n",
       "      <td>24</td>\n",
       "      <td>93023</td>\n",
       "      <td>2</td>\n",
       "      <td>0.3</td>\n",
       "      <td>3</td>\n",
       "      <td>0</td>\n",
       "      <td>0</td>\n",
       "      <td>0</td>\n",
       "      <td>0</td>\n",
       "      <td>0</td>\n",
       "      <td>0</td>\n",
       "    </tr>\n",
       "    <tr>\n",
       "      <th>4998</th>\n",
       "      <td>4999</td>\n",
       "      <td>65</td>\n",
       "      <td>40</td>\n",
       "      <td>49</td>\n",
       "      <td>90034</td>\n",
       "      <td>3</td>\n",
       "      <td>0.5</td>\n",
       "      <td>2</td>\n",
       "      <td>0</td>\n",
       "      <td>0</td>\n",
       "      <td>0</td>\n",
       "      <td>0</td>\n",
       "      <td>1</td>\n",
       "      <td>0</td>\n",
       "    </tr>\n",
       "    <tr>\n",
       "      <th>4999</th>\n",
       "      <td>5000</td>\n",
       "      <td>28</td>\n",
       "      <td>4</td>\n",
       "      <td>83</td>\n",
       "      <td>92612</td>\n",
       "      <td>3</td>\n",
       "      <td>0.8</td>\n",
       "      <td>1</td>\n",
       "      <td>0</td>\n",
       "      <td>0</td>\n",
       "      <td>0</td>\n",
       "      <td>0</td>\n",
       "      <td>1</td>\n",
       "      <td>1</td>\n",
       "    </tr>\n",
       "  </tbody>\n",
       "</table>\n",
       "<p>5000 rows × 14 columns</p>\n",
       "</div>"
      ],
      "text/plain": [
       "        ID  Age  Experience  Income  ZIP Code  Family  CCAvg  Education  \\\n",
       "0        1   25           1      49     91107       4    1.6          1   \n",
       "1        2   45          19      34     90089       3    1.5          1   \n",
       "2        3   39          15      11     94720       1    1.0          1   \n",
       "3        4   35           9     100     94112       1    2.7          2   \n",
       "4        5   35           8      45     91330       4    1.0          2   \n",
       "...    ...  ...         ...     ...       ...     ...    ...        ...   \n",
       "4995  4996   29           3      40     92697       1    1.9          3   \n",
       "4996  4997   30           4      15     92037       4    0.4          1   \n",
       "4997  4998   63          39      24     93023       2    0.3          3   \n",
       "4998  4999   65          40      49     90034       3    0.5          2   \n",
       "4999  5000   28           4      83     92612       3    0.8          1   \n",
       "\n",
       "      Mortgage  Personal Loan  Securities Account  CD Account  Online  \\\n",
       "0            0              0                   1           0       0   \n",
       "1            0              0                   1           0       0   \n",
       "2            0              0                   0           0       0   \n",
       "3            0              0                   0           0       0   \n",
       "4            0              0                   0           0       0   \n",
       "...        ...            ...                 ...         ...     ...   \n",
       "4995         0              0                   0           0       1   \n",
       "4996        85              0                   0           0       1   \n",
       "4997         0              0                   0           0       0   \n",
       "4998         0              0                   0           0       1   \n",
       "4999         0              0                   0           0       1   \n",
       "\n",
       "      CreditCard  \n",
       "0              0  \n",
       "1              0  \n",
       "2              0  \n",
       "3              0  \n",
       "4              1  \n",
       "...          ...  \n",
       "4995           0  \n",
       "4996           0  \n",
       "4997           0  \n",
       "4998           0  \n",
       "4999           1  \n",
       "\n",
       "[5000 rows x 14 columns]"
      ]
     },
     "execution_count": 4,
     "metadata": {},
     "output_type": "execute_result"
    }
   ],
   "source": [
    "loan"
   ]
  },
  {
   "cell_type": "markdown",
   "id": "8ba28688",
   "metadata": {},
   "source": [
    "##### The dataset contains 5000 records and 14 columns."
   ]
  },
  {
   "cell_type": "code",
   "execution_count": 5,
   "id": "84d3bd78",
   "metadata": {},
   "outputs": [
    {
     "name": "stdout",
     "output_type": "stream",
     "text": [
      "<class 'pandas.core.frame.DataFrame'>\n",
      "RangeIndex: 5000 entries, 0 to 4999\n",
      "Data columns (total 14 columns):\n",
      " #   Column              Non-Null Count  Dtype  \n",
      "---  ------              --------------  -----  \n",
      " 0   ID                  5000 non-null   int64  \n",
      " 1   Age                 5000 non-null   int64  \n",
      " 2   Experience          5000 non-null   int64  \n",
      " 3   Income              5000 non-null   int64  \n",
      " 4   ZIP Code            5000 non-null   int64  \n",
      " 5   Family              5000 non-null   int64  \n",
      " 6   CCAvg               5000 non-null   float64\n",
      " 7   Education           5000 non-null   int64  \n",
      " 8   Mortgage            5000 non-null   int64  \n",
      " 9   Personal Loan       5000 non-null   int64  \n",
      " 10  Securities Account  5000 non-null   int64  \n",
      " 11  CD Account          5000 non-null   int64  \n",
      " 12  Online              5000 non-null   int64  \n",
      " 13  CreditCard          5000 non-null   int64  \n",
      "dtypes: float64(1), int64(13)\n",
      "memory usage: 547.0 KB\n"
     ]
    }
   ],
   "source": [
    "loan.info()"
   ]
  },
  {
   "cell_type": "code",
   "execution_count": 6,
   "id": "926d7996",
   "metadata": {},
   "outputs": [
    {
     "data": {
      "text/html": [
       "<div>\n",
       "<style scoped>\n",
       "    .dataframe tbody tr th:only-of-type {\n",
       "        vertical-align: middle;\n",
       "    }\n",
       "\n",
       "    .dataframe tbody tr th {\n",
       "        vertical-align: top;\n",
       "    }\n",
       "\n",
       "    .dataframe thead th {\n",
       "        text-align: right;\n",
       "    }\n",
       "</style>\n",
       "<table border=\"1\" class=\"dataframe\">\n",
       "  <thead>\n",
       "    <tr style=\"text-align: right;\">\n",
       "      <th></th>\n",
       "      <th>ID</th>\n",
       "      <th>Age</th>\n",
       "      <th>Experience</th>\n",
       "      <th>Income</th>\n",
       "      <th>ZIP Code</th>\n",
       "      <th>Family</th>\n",
       "      <th>CCAvg</th>\n",
       "      <th>Education</th>\n",
       "      <th>Mortgage</th>\n",
       "      <th>Personal Loan</th>\n",
       "      <th>Securities Account</th>\n",
       "      <th>CD Account</th>\n",
       "      <th>Online</th>\n",
       "      <th>CreditCard</th>\n",
       "    </tr>\n",
       "  </thead>\n",
       "  <tbody>\n",
       "    <tr>\n",
       "      <th>0</th>\n",
       "      <td>1</td>\n",
       "      <td>25</td>\n",
       "      <td>1</td>\n",
       "      <td>49</td>\n",
       "      <td>91107</td>\n",
       "      <td>4</td>\n",
       "      <td>1.6</td>\n",
       "      <td>1</td>\n",
       "      <td>0</td>\n",
       "      <td>0</td>\n",
       "      <td>1</td>\n",
       "      <td>0</td>\n",
       "      <td>0</td>\n",
       "      <td>0</td>\n",
       "    </tr>\n",
       "    <tr>\n",
       "      <th>1</th>\n",
       "      <td>2</td>\n",
       "      <td>45</td>\n",
       "      <td>19</td>\n",
       "      <td>34</td>\n",
       "      <td>90089</td>\n",
       "      <td>3</td>\n",
       "      <td>1.5</td>\n",
       "      <td>1</td>\n",
       "      <td>0</td>\n",
       "      <td>0</td>\n",
       "      <td>1</td>\n",
       "      <td>0</td>\n",
       "      <td>0</td>\n",
       "      <td>0</td>\n",
       "    </tr>\n",
       "    <tr>\n",
       "      <th>2</th>\n",
       "      <td>3</td>\n",
       "      <td>39</td>\n",
       "      <td>15</td>\n",
       "      <td>11</td>\n",
       "      <td>94720</td>\n",
       "      <td>1</td>\n",
       "      <td>1.0</td>\n",
       "      <td>1</td>\n",
       "      <td>0</td>\n",
       "      <td>0</td>\n",
       "      <td>0</td>\n",
       "      <td>0</td>\n",
       "      <td>0</td>\n",
       "      <td>0</td>\n",
       "    </tr>\n",
       "    <tr>\n",
       "      <th>3</th>\n",
       "      <td>4</td>\n",
       "      <td>35</td>\n",
       "      <td>9</td>\n",
       "      <td>100</td>\n",
       "      <td>94112</td>\n",
       "      <td>1</td>\n",
       "      <td>2.7</td>\n",
       "      <td>2</td>\n",
       "      <td>0</td>\n",
       "      <td>0</td>\n",
       "      <td>0</td>\n",
       "      <td>0</td>\n",
       "      <td>0</td>\n",
       "      <td>0</td>\n",
       "    </tr>\n",
       "    <tr>\n",
       "      <th>4</th>\n",
       "      <td>5</td>\n",
       "      <td>35</td>\n",
       "      <td>8</td>\n",
       "      <td>45</td>\n",
       "      <td>91330</td>\n",
       "      <td>4</td>\n",
       "      <td>1.0</td>\n",
       "      <td>2</td>\n",
       "      <td>0</td>\n",
       "      <td>0</td>\n",
       "      <td>0</td>\n",
       "      <td>0</td>\n",
       "      <td>0</td>\n",
       "      <td>1</td>\n",
       "    </tr>\n",
       "    <tr>\n",
       "      <th>5</th>\n",
       "      <td>6</td>\n",
       "      <td>37</td>\n",
       "      <td>13</td>\n",
       "      <td>29</td>\n",
       "      <td>92121</td>\n",
       "      <td>4</td>\n",
       "      <td>0.4</td>\n",
       "      <td>2</td>\n",
       "      <td>155</td>\n",
       "      <td>0</td>\n",
       "      <td>0</td>\n",
       "      <td>0</td>\n",
       "      <td>1</td>\n",
       "      <td>0</td>\n",
       "    </tr>\n",
       "    <tr>\n",
       "      <th>6</th>\n",
       "      <td>7</td>\n",
       "      <td>53</td>\n",
       "      <td>27</td>\n",
       "      <td>72</td>\n",
       "      <td>91711</td>\n",
       "      <td>2</td>\n",
       "      <td>1.5</td>\n",
       "      <td>2</td>\n",
       "      <td>0</td>\n",
       "      <td>0</td>\n",
       "      <td>0</td>\n",
       "      <td>0</td>\n",
       "      <td>1</td>\n",
       "      <td>0</td>\n",
       "    </tr>\n",
       "    <tr>\n",
       "      <th>7</th>\n",
       "      <td>8</td>\n",
       "      <td>50</td>\n",
       "      <td>24</td>\n",
       "      <td>22</td>\n",
       "      <td>93943</td>\n",
       "      <td>1</td>\n",
       "      <td>0.3</td>\n",
       "      <td>3</td>\n",
       "      <td>0</td>\n",
       "      <td>0</td>\n",
       "      <td>0</td>\n",
       "      <td>0</td>\n",
       "      <td>0</td>\n",
       "      <td>1</td>\n",
       "    </tr>\n",
       "    <tr>\n",
       "      <th>8</th>\n",
       "      <td>9</td>\n",
       "      <td>35</td>\n",
       "      <td>10</td>\n",
       "      <td>81</td>\n",
       "      <td>90089</td>\n",
       "      <td>3</td>\n",
       "      <td>0.6</td>\n",
       "      <td>2</td>\n",
       "      <td>104</td>\n",
       "      <td>0</td>\n",
       "      <td>0</td>\n",
       "      <td>0</td>\n",
       "      <td>1</td>\n",
       "      <td>0</td>\n",
       "    </tr>\n",
       "    <tr>\n",
       "      <th>9</th>\n",
       "      <td>10</td>\n",
       "      <td>34</td>\n",
       "      <td>9</td>\n",
       "      <td>180</td>\n",
       "      <td>93023</td>\n",
       "      <td>1</td>\n",
       "      <td>8.9</td>\n",
       "      <td>3</td>\n",
       "      <td>0</td>\n",
       "      <td>1</td>\n",
       "      <td>0</td>\n",
       "      <td>0</td>\n",
       "      <td>0</td>\n",
       "      <td>0</td>\n",
       "    </tr>\n",
       "  </tbody>\n",
       "</table>\n",
       "</div>"
      ],
      "text/plain": [
       "   ID  Age  Experience  Income  ZIP Code  Family  CCAvg  Education  Mortgage  \\\n",
       "0   1   25           1      49     91107       4    1.6          1         0   \n",
       "1   2   45          19      34     90089       3    1.5          1         0   \n",
       "2   3   39          15      11     94720       1    1.0          1         0   \n",
       "3   4   35           9     100     94112       1    2.7          2         0   \n",
       "4   5   35           8      45     91330       4    1.0          2         0   \n",
       "5   6   37          13      29     92121       4    0.4          2       155   \n",
       "6   7   53          27      72     91711       2    1.5          2         0   \n",
       "7   8   50          24      22     93943       1    0.3          3         0   \n",
       "8   9   35          10      81     90089       3    0.6          2       104   \n",
       "9  10   34           9     180     93023       1    8.9          3         0   \n",
       "\n",
       "   Personal Loan  Securities Account  CD Account  Online  CreditCard  \n",
       "0              0                   1           0       0           0  \n",
       "1              0                   1           0       0           0  \n",
       "2              0                   0           0       0           0  \n",
       "3              0                   0           0       0           0  \n",
       "4              0                   0           0       0           1  \n",
       "5              0                   0           0       1           0  \n",
       "6              0                   0           0       1           0  \n",
       "7              0                   0           0       0           1  \n",
       "8              0                   0           0       1           0  \n",
       "9              1                   0           0       0           0  "
      ]
     },
     "execution_count": 6,
     "metadata": {},
     "output_type": "execute_result"
    }
   ],
   "source": [
    "loan.iloc[0:10,0:14]"
   ]
  },
  {
   "cell_type": "code",
   "execution_count": 7,
   "id": "6d73a71f",
   "metadata": {},
   "outputs": [
    {
     "name": "stdout",
     "output_type": "stream",
     "text": [
      "Rows     :  5000\n",
      "Columns  :  14\n"
     ]
    }
   ],
   "source": [
    "print (\"Rows     : \" , loan.shape[0])\n",
    "print (\"Columns  : \" , loan.shape[1])"
   ]
  },
  {
   "cell_type": "code",
   "execution_count": 8,
   "id": "d4d7abf6",
   "metadata": {},
   "outputs": [
    {
     "name": "stdout",
     "output_type": "stream",
     "text": [
      "############################################################ \n",
      "Missing values :\n",
      "\n",
      " ID                    0\n",
      "Age                   0\n",
      "Experience            0\n",
      "Income                0\n",
      "ZIP Code              0\n",
      "Family                0\n",
      "CCAvg                 0\n",
      "Education             0\n",
      "Mortgage              0\n",
      "Personal Loan         0\n",
      "Securities Account    0\n",
      "CD Account            0\n",
      "Online                0\n",
      "CreditCard            0\n",
      "dtype: int64\n"
     ]
    }
   ],
   "source": [
    "print (\"#\"*60,\"\\nMissing values :\\n\\n\", loan.isnull().sum().sort_values(ascending=False))"
   ]
  },
  {
   "cell_type": "code",
   "execution_count": 9,
   "id": "aac3ef3d",
   "metadata": {},
   "outputs": [
    {
     "name": "stdout",
     "output_type": "stream",
     "text": [
      "############################################################ \n",
      "Unique values :  \n",
      "\n",
      " ID                    5000\n",
      "Age                     45\n",
      "Experience              47\n",
      "Income                 162\n",
      "ZIP Code               467\n",
      "Family                   4\n",
      "CCAvg                  108\n",
      "Education                3\n",
      "Mortgage               347\n",
      "Personal Loan            2\n",
      "Securities Account       2\n",
      "CD Account               2\n",
      "Online                   2\n",
      "CreditCard               2\n",
      "dtype: int64\n"
     ]
    }
   ],
   "source": [
    "print (\"#\"*60,\"\\nUnique values :  \\n\\n\", loan.nunique())"
   ]
  },
  {
   "cell_type": "code",
   "execution_count": 10,
   "id": "90954523",
   "metadata": {},
   "outputs": [
    {
     "data": {
      "text/plain": [
       "ID                   -0.024801\n",
       "Age                  -0.007726\n",
       "Experience           -0.007413\n",
       "Income                0.502462\n",
       "ZIP Code              0.000107\n",
       "Family                0.061367\n",
       "CCAvg                 0.366889\n",
       "Education             0.136722\n",
       "Mortgage              0.142095\n",
       "Personal Loan         1.000000\n",
       "Securities Account    0.021954\n",
       "CD Account            0.316355\n",
       "Online                0.006278\n",
       "CreditCard            0.002802\n",
       "Name: Personal Loan, dtype: float64"
      ]
     },
     "execution_count": 10,
     "metadata": {},
     "output_type": "execute_result"
    }
   ],
   "source": [
    "loan.corr()['Personal Loan']"
   ]
  },
  {
   "cell_type": "markdown",
   "id": "615f55b9",
   "metadata": {},
   "source": [
    "## Inference \n",
    "•\tProportional:Variable Income, CCAvg and CD Account are highly proportional to the quality of data of a person.\n",
    "\n",
    "•\tInversely Proportional: Variable ID, Age and Experience  inversely proportional to the quality of data of a person."
   ]
  },
  {
   "cell_type": "markdown",
   "id": "cc612e42",
   "metadata": {},
   "source": [
    " <H2><p style=\"text-align: center;\"> Step 2: Preprocessing the Data"
   ]
  },
  {
   "cell_type": "code",
   "execution_count": 11,
   "id": "aea42d4e",
   "metadata": {},
   "outputs": [],
   "source": [
    "df_loan=loan.drop(['ID'],axis=1)"
   ]
  },
  {
   "cell_type": "code",
   "execution_count": 12,
   "id": "d32ab2ed",
   "metadata": {},
   "outputs": [
    {
     "name": "stdout",
     "output_type": "stream",
     "text": [
      "<class 'pandas.core.frame.DataFrame'>\n",
      "RangeIndex: 5000 entries, 0 to 4999\n",
      "Data columns (total 13 columns):\n",
      " #   Column              Non-Null Count  Dtype  \n",
      "---  ------              --------------  -----  \n",
      " 0   Age                 5000 non-null   int64  \n",
      " 1   Experience          5000 non-null   int64  \n",
      " 2   Income              5000 non-null   int64  \n",
      " 3   ZIP Code            5000 non-null   int64  \n",
      " 4   Family              5000 non-null   int64  \n",
      " 5   CCAvg               5000 non-null   float64\n",
      " 6   Education           5000 non-null   int64  \n",
      " 7   Mortgage            5000 non-null   int64  \n",
      " 8   Personal Loan       5000 non-null   int64  \n",
      " 9   Securities Account  5000 non-null   int64  \n",
      " 10  CD Account          5000 non-null   int64  \n",
      " 11  Online              5000 non-null   int64  \n",
      " 12  CreditCard          5000 non-null   int64  \n",
      "dtypes: float64(1), int64(12)\n",
      "memory usage: 507.9 KB\n"
     ]
    }
   ],
   "source": [
    "df_loan.info()"
   ]
  },
  {
   "cell_type": "code",
   "execution_count": 13,
   "id": "9253b428",
   "metadata": {},
   "outputs": [
    {
     "data": {
      "text/html": [
       "<div>\n",
       "<style scoped>\n",
       "    .dataframe tbody tr th:only-of-type {\n",
       "        vertical-align: middle;\n",
       "    }\n",
       "\n",
       "    .dataframe tbody tr th {\n",
       "        vertical-align: top;\n",
       "    }\n",
       "\n",
       "    .dataframe thead th {\n",
       "        text-align: right;\n",
       "    }\n",
       "</style>\n",
       "<table border=\"1\" class=\"dataframe\">\n",
       "  <thead>\n",
       "    <tr style=\"text-align: right;\">\n",
       "      <th></th>\n",
       "      <th>Age</th>\n",
       "      <th>Experience</th>\n",
       "      <th>Income</th>\n",
       "      <th>ZIP Code</th>\n",
       "      <th>Family</th>\n",
       "      <th>CCAvg</th>\n",
       "      <th>Education</th>\n",
       "      <th>Mortgage</th>\n",
       "      <th>Personal Loan</th>\n",
       "      <th>Securities Account</th>\n",
       "      <th>CD Account</th>\n",
       "      <th>Online</th>\n",
       "      <th>CreditCard</th>\n",
       "    </tr>\n",
       "  </thead>\n",
       "  <tbody>\n",
       "    <tr>\n",
       "      <th>0</th>\n",
       "      <td>25</td>\n",
       "      <td>1</td>\n",
       "      <td>49</td>\n",
       "      <td>91107</td>\n",
       "      <td>4</td>\n",
       "      <td>1.6</td>\n",
       "      <td>1</td>\n",
       "      <td>0</td>\n",
       "      <td>0</td>\n",
       "      <td>1</td>\n",
       "      <td>0</td>\n",
       "      <td>0</td>\n",
       "      <td>0</td>\n",
       "    </tr>\n",
       "    <tr>\n",
       "      <th>1</th>\n",
       "      <td>45</td>\n",
       "      <td>19</td>\n",
       "      <td>34</td>\n",
       "      <td>90089</td>\n",
       "      <td>3</td>\n",
       "      <td>1.5</td>\n",
       "      <td>1</td>\n",
       "      <td>0</td>\n",
       "      <td>0</td>\n",
       "      <td>1</td>\n",
       "      <td>0</td>\n",
       "      <td>0</td>\n",
       "      <td>0</td>\n",
       "    </tr>\n",
       "    <tr>\n",
       "      <th>2</th>\n",
       "      <td>39</td>\n",
       "      <td>15</td>\n",
       "      <td>11</td>\n",
       "      <td>94720</td>\n",
       "      <td>1</td>\n",
       "      <td>1.0</td>\n",
       "      <td>1</td>\n",
       "      <td>0</td>\n",
       "      <td>0</td>\n",
       "      <td>0</td>\n",
       "      <td>0</td>\n",
       "      <td>0</td>\n",
       "      <td>0</td>\n",
       "    </tr>\n",
       "    <tr>\n",
       "      <th>3</th>\n",
       "      <td>35</td>\n",
       "      <td>9</td>\n",
       "      <td>100</td>\n",
       "      <td>94112</td>\n",
       "      <td>1</td>\n",
       "      <td>2.7</td>\n",
       "      <td>2</td>\n",
       "      <td>0</td>\n",
       "      <td>0</td>\n",
       "      <td>0</td>\n",
       "      <td>0</td>\n",
       "      <td>0</td>\n",
       "      <td>0</td>\n",
       "    </tr>\n",
       "    <tr>\n",
       "      <th>4</th>\n",
       "      <td>35</td>\n",
       "      <td>8</td>\n",
       "      <td>45</td>\n",
       "      <td>91330</td>\n",
       "      <td>4</td>\n",
       "      <td>1.0</td>\n",
       "      <td>2</td>\n",
       "      <td>0</td>\n",
       "      <td>0</td>\n",
       "      <td>0</td>\n",
       "      <td>0</td>\n",
       "      <td>0</td>\n",
       "      <td>1</td>\n",
       "    </tr>\n",
       "  </tbody>\n",
       "</table>\n",
       "</div>"
      ],
      "text/plain": [
       "   Age  Experience  Income  ZIP Code  Family  CCAvg  Education  Mortgage  \\\n",
       "0   25           1      49     91107       4    1.6          1         0   \n",
       "1   45          19      34     90089       3    1.5          1         0   \n",
       "2   39          15      11     94720       1    1.0          1         0   \n",
       "3   35           9     100     94112       1    2.7          2         0   \n",
       "4   35           8      45     91330       4    1.0          2         0   \n",
       "\n",
       "   Personal Loan  Securities Account  CD Account  Online  CreditCard  \n",
       "0              0                   1           0       0           0  \n",
       "1              0                   1           0       0           0  \n",
       "2              0                   0           0       0           0  \n",
       "3              0                   0           0       0           0  \n",
       "4              0                   0           0       0           1  "
      ]
     },
     "execution_count": 13,
     "metadata": {},
     "output_type": "execute_result"
    }
   ],
   "source": [
    "df_loan.head()"
   ]
  },
  {
   "cell_type": "markdown",
   "id": "e88d0b84",
   "metadata": {},
   "source": [
    "### 2 (a). Encoding Categorical Features "
   ]
  },
  {
   "cell_type": "code",
   "execution_count": 14,
   "id": "d2495f2a",
   "metadata": {},
   "outputs": [],
   "source": [
    "oneHotCols=['Education']\n",
    "df_loan=pd.get_dummies(df_loan,columns=oneHotCols)"
   ]
  },
  {
   "cell_type": "markdown",
   "id": "19e84918",
   "metadata": {},
   "source": [
    "#### We have 6 categorical independent variables but 4 of them are binary, so we'll have the same results with them even after creating dummies. So, we will only make dummies for Education."
   ]
  },
  {
   "cell_type": "code",
   "execution_count": 15,
   "id": "1c50e9cb",
   "metadata": {
    "scrolled": true
   },
   "outputs": [
    {
     "data": {
      "text/html": [
       "<div>\n",
       "<style scoped>\n",
       "    .dataframe tbody tr th:only-of-type {\n",
       "        vertical-align: middle;\n",
       "    }\n",
       "\n",
       "    .dataframe tbody tr th {\n",
       "        vertical-align: top;\n",
       "    }\n",
       "\n",
       "    .dataframe thead th {\n",
       "        text-align: right;\n",
       "    }\n",
       "</style>\n",
       "<table border=\"1\" class=\"dataframe\">\n",
       "  <thead>\n",
       "    <tr style=\"text-align: right;\">\n",
       "      <th></th>\n",
       "      <th>Age</th>\n",
       "      <th>Experience</th>\n",
       "      <th>Income</th>\n",
       "      <th>ZIP Code</th>\n",
       "      <th>Family</th>\n",
       "      <th>CCAvg</th>\n",
       "      <th>Mortgage</th>\n",
       "      <th>Personal Loan</th>\n",
       "      <th>Securities Account</th>\n",
       "      <th>CD Account</th>\n",
       "      <th>Online</th>\n",
       "      <th>CreditCard</th>\n",
       "      <th>Education_1</th>\n",
       "      <th>Education_2</th>\n",
       "      <th>Education_3</th>\n",
       "    </tr>\n",
       "  </thead>\n",
       "  <tbody>\n",
       "    <tr>\n",
       "      <th>0</th>\n",
       "      <td>25</td>\n",
       "      <td>1</td>\n",
       "      <td>49</td>\n",
       "      <td>91107</td>\n",
       "      <td>4</td>\n",
       "      <td>1.6</td>\n",
       "      <td>0</td>\n",
       "      <td>0</td>\n",
       "      <td>1</td>\n",
       "      <td>0</td>\n",
       "      <td>0</td>\n",
       "      <td>0</td>\n",
       "      <td>1</td>\n",
       "      <td>0</td>\n",
       "      <td>0</td>\n",
       "    </tr>\n",
       "    <tr>\n",
       "      <th>1</th>\n",
       "      <td>45</td>\n",
       "      <td>19</td>\n",
       "      <td>34</td>\n",
       "      <td>90089</td>\n",
       "      <td>3</td>\n",
       "      <td>1.5</td>\n",
       "      <td>0</td>\n",
       "      <td>0</td>\n",
       "      <td>1</td>\n",
       "      <td>0</td>\n",
       "      <td>0</td>\n",
       "      <td>0</td>\n",
       "      <td>1</td>\n",
       "      <td>0</td>\n",
       "      <td>0</td>\n",
       "    </tr>\n",
       "    <tr>\n",
       "      <th>2</th>\n",
       "      <td>39</td>\n",
       "      <td>15</td>\n",
       "      <td>11</td>\n",
       "      <td>94720</td>\n",
       "      <td>1</td>\n",
       "      <td>1.0</td>\n",
       "      <td>0</td>\n",
       "      <td>0</td>\n",
       "      <td>0</td>\n",
       "      <td>0</td>\n",
       "      <td>0</td>\n",
       "      <td>0</td>\n",
       "      <td>1</td>\n",
       "      <td>0</td>\n",
       "      <td>0</td>\n",
       "    </tr>\n",
       "    <tr>\n",
       "      <th>3</th>\n",
       "      <td>35</td>\n",
       "      <td>9</td>\n",
       "      <td>100</td>\n",
       "      <td>94112</td>\n",
       "      <td>1</td>\n",
       "      <td>2.7</td>\n",
       "      <td>0</td>\n",
       "      <td>0</td>\n",
       "      <td>0</td>\n",
       "      <td>0</td>\n",
       "      <td>0</td>\n",
       "      <td>0</td>\n",
       "      <td>0</td>\n",
       "      <td>1</td>\n",
       "      <td>0</td>\n",
       "    </tr>\n",
       "    <tr>\n",
       "      <th>4</th>\n",
       "      <td>35</td>\n",
       "      <td>8</td>\n",
       "      <td>45</td>\n",
       "      <td>91330</td>\n",
       "      <td>4</td>\n",
       "      <td>1.0</td>\n",
       "      <td>0</td>\n",
       "      <td>0</td>\n",
       "      <td>0</td>\n",
       "      <td>0</td>\n",
       "      <td>0</td>\n",
       "      <td>1</td>\n",
       "      <td>0</td>\n",
       "      <td>1</td>\n",
       "      <td>0</td>\n",
       "    </tr>\n",
       "  </tbody>\n",
       "</table>\n",
       "</div>"
      ],
      "text/plain": [
       "   Age  Experience  Income  ZIP Code  Family  CCAvg  Mortgage  Personal Loan  \\\n",
       "0   25           1      49     91107       4    1.6         0              0   \n",
       "1   45          19      34     90089       3    1.5         0              0   \n",
       "2   39          15      11     94720       1    1.0         0              0   \n",
       "3   35           9     100     94112       1    2.7         0              0   \n",
       "4   35           8      45     91330       4    1.0         0              0   \n",
       "\n",
       "   Securities Account  CD Account  Online  CreditCard  Education_1  \\\n",
       "0                   1           0       0           0            1   \n",
       "1                   1           0       0           0            1   \n",
       "2                   0           0       0           0            1   \n",
       "3                   0           0       0           0            0   \n",
       "4                   0           0       0           1            0   \n",
       "\n",
       "   Education_2  Education_3  \n",
       "0            0            0  \n",
       "1            0            0  \n",
       "2            0            0  \n",
       "3            1            0  \n",
       "4            1            0  "
      ]
     },
     "execution_count": 15,
     "metadata": {},
     "output_type": "execute_result"
    }
   ],
   "source": [
    "df_loan.head()"
   ]
  },
  {
   "cell_type": "code",
   "execution_count": 16,
   "id": "8c00043a",
   "metadata": {},
   "outputs": [
    {
     "data": {
      "text/plain": [
       "(5000, 15)"
      ]
     },
     "execution_count": 16,
     "metadata": {},
     "output_type": "execute_result"
    }
   ],
   "source": [
    "df_loan.shape"
   ]
  },
  {
   "cell_type": "code",
   "execution_count": 17,
   "id": "b4d111ba",
   "metadata": {},
   "outputs": [],
   "source": [
    "## We need to add a new column and set its value to 1, for the model to estimate the intercept. \n",
    "\n",
    "import statsmodels.api as sm\n",
    "\n",
    "df_loan=sm.add_constant(df_loan)"
   ]
  },
  {
   "cell_type": "code",
   "execution_count": 18,
   "id": "a36d99c4",
   "metadata": {
    "scrolled": true
   },
   "outputs": [
    {
     "data": {
      "text/html": [
       "<div>\n",
       "<style scoped>\n",
       "    .dataframe tbody tr th:only-of-type {\n",
       "        vertical-align: middle;\n",
       "    }\n",
       "\n",
       "    .dataframe tbody tr th {\n",
       "        vertical-align: top;\n",
       "    }\n",
       "\n",
       "    .dataframe thead th {\n",
       "        text-align: right;\n",
       "    }\n",
       "</style>\n",
       "<table border=\"1\" class=\"dataframe\">\n",
       "  <thead>\n",
       "    <tr style=\"text-align: right;\">\n",
       "      <th></th>\n",
       "      <th>const</th>\n",
       "      <th>Age</th>\n",
       "      <th>Experience</th>\n",
       "      <th>Income</th>\n",
       "      <th>ZIP Code</th>\n",
       "      <th>Family</th>\n",
       "      <th>CCAvg</th>\n",
       "      <th>Mortgage</th>\n",
       "      <th>Personal Loan</th>\n",
       "      <th>Securities Account</th>\n",
       "      <th>CD Account</th>\n",
       "      <th>Online</th>\n",
       "      <th>CreditCard</th>\n",
       "      <th>Education_1</th>\n",
       "      <th>Education_2</th>\n",
       "      <th>Education_3</th>\n",
       "    </tr>\n",
       "  </thead>\n",
       "  <tbody>\n",
       "    <tr>\n",
       "      <th>0</th>\n",
       "      <td>1.0</td>\n",
       "      <td>25</td>\n",
       "      <td>1</td>\n",
       "      <td>49</td>\n",
       "      <td>91107</td>\n",
       "      <td>4</td>\n",
       "      <td>1.6</td>\n",
       "      <td>0</td>\n",
       "      <td>0</td>\n",
       "      <td>1</td>\n",
       "      <td>0</td>\n",
       "      <td>0</td>\n",
       "      <td>0</td>\n",
       "      <td>1</td>\n",
       "      <td>0</td>\n",
       "      <td>0</td>\n",
       "    </tr>\n",
       "    <tr>\n",
       "      <th>1</th>\n",
       "      <td>1.0</td>\n",
       "      <td>45</td>\n",
       "      <td>19</td>\n",
       "      <td>34</td>\n",
       "      <td>90089</td>\n",
       "      <td>3</td>\n",
       "      <td>1.5</td>\n",
       "      <td>0</td>\n",
       "      <td>0</td>\n",
       "      <td>1</td>\n",
       "      <td>0</td>\n",
       "      <td>0</td>\n",
       "      <td>0</td>\n",
       "      <td>1</td>\n",
       "      <td>0</td>\n",
       "      <td>0</td>\n",
       "    </tr>\n",
       "    <tr>\n",
       "      <th>2</th>\n",
       "      <td>1.0</td>\n",
       "      <td>39</td>\n",
       "      <td>15</td>\n",
       "      <td>11</td>\n",
       "      <td>94720</td>\n",
       "      <td>1</td>\n",
       "      <td>1.0</td>\n",
       "      <td>0</td>\n",
       "      <td>0</td>\n",
       "      <td>0</td>\n",
       "      <td>0</td>\n",
       "      <td>0</td>\n",
       "      <td>0</td>\n",
       "      <td>1</td>\n",
       "      <td>0</td>\n",
       "      <td>0</td>\n",
       "    </tr>\n",
       "    <tr>\n",
       "      <th>3</th>\n",
       "      <td>1.0</td>\n",
       "      <td>35</td>\n",
       "      <td>9</td>\n",
       "      <td>100</td>\n",
       "      <td>94112</td>\n",
       "      <td>1</td>\n",
       "      <td>2.7</td>\n",
       "      <td>0</td>\n",
       "      <td>0</td>\n",
       "      <td>0</td>\n",
       "      <td>0</td>\n",
       "      <td>0</td>\n",
       "      <td>0</td>\n",
       "      <td>0</td>\n",
       "      <td>1</td>\n",
       "      <td>0</td>\n",
       "    </tr>\n",
       "    <tr>\n",
       "      <th>4</th>\n",
       "      <td>1.0</td>\n",
       "      <td>35</td>\n",
       "      <td>8</td>\n",
       "      <td>45</td>\n",
       "      <td>91330</td>\n",
       "      <td>4</td>\n",
       "      <td>1.0</td>\n",
       "      <td>0</td>\n",
       "      <td>0</td>\n",
       "      <td>0</td>\n",
       "      <td>0</td>\n",
       "      <td>0</td>\n",
       "      <td>1</td>\n",
       "      <td>0</td>\n",
       "      <td>1</td>\n",
       "      <td>0</td>\n",
       "    </tr>\n",
       "  </tbody>\n",
       "</table>\n",
       "</div>"
      ],
      "text/plain": [
       "   const  Age  Experience  Income  ZIP Code  Family  CCAvg  Mortgage  \\\n",
       "0    1.0   25           1      49     91107       4    1.6         0   \n",
       "1    1.0   45          19      34     90089       3    1.5         0   \n",
       "2    1.0   39          15      11     94720       1    1.0         0   \n",
       "3    1.0   35           9     100     94112       1    2.7         0   \n",
       "4    1.0   35           8      45     91330       4    1.0         0   \n",
       "\n",
       "   Personal Loan  Securities Account  CD Account  Online  CreditCard  \\\n",
       "0              0                   1           0       0           0   \n",
       "1              0                   1           0       0           0   \n",
       "2              0                   0           0       0           0   \n",
       "3              0                   0           0       0           0   \n",
       "4              0                   0           0       0           1   \n",
       "\n",
       "   Education_1  Education_2  Education_3  \n",
       "0            1            0            0  \n",
       "1            1            0            0  \n",
       "2            1            0            0  \n",
       "3            0            1            0  \n",
       "4            0            1            0  "
      ]
     },
     "execution_count": 18,
     "metadata": {},
     "output_type": "execute_result"
    }
   ],
   "source": [
    "x=df_loan\n",
    "x.head()"
   ]
  },
  {
   "cell_type": "code",
   "execution_count": 19,
   "id": "9fc2e9fb",
   "metadata": {},
   "outputs": [],
   "source": [
    "y=x['Personal Loan']"
   ]
  },
  {
   "cell_type": "code",
   "execution_count": 20,
   "id": "67f15f0b",
   "metadata": {},
   "outputs": [],
   "source": [
    "X=x.drop(['Personal Loan'],axis=1)"
   ]
  },
  {
   "cell_type": "code",
   "execution_count": 21,
   "id": "43164022",
   "metadata": {},
   "outputs": [
    {
     "name": "stdout",
     "output_type": "stream",
     "text": [
      "<class 'pandas.core.frame.DataFrame'>\n",
      "RangeIndex: 5000 entries, 0 to 4999\n",
      "Data columns (total 16 columns):\n",
      " #   Column              Non-Null Count  Dtype  \n",
      "---  ------              --------------  -----  \n",
      " 0   const               5000 non-null   float64\n",
      " 1   Age                 5000 non-null   int64  \n",
      " 2   Experience          5000 non-null   int64  \n",
      " 3   Income              5000 non-null   int64  \n",
      " 4   ZIP Code            5000 non-null   int64  \n",
      " 5   Family              5000 non-null   int64  \n",
      " 6   CCAvg               5000 non-null   float64\n",
      " 7   Mortgage            5000 non-null   int64  \n",
      " 8   Personal Loan       5000 non-null   int64  \n",
      " 9   Securities Account  5000 non-null   int64  \n",
      " 10  CD Account          5000 non-null   int64  \n",
      " 11  Online              5000 non-null   int64  \n",
      " 12  CreditCard          5000 non-null   int64  \n",
      " 13  Education_1         5000 non-null   uint8  \n",
      " 14  Education_2         5000 non-null   uint8  \n",
      " 15  Education_3         5000 non-null   uint8  \n",
      "dtypes: float64(2), int64(11), uint8(3)\n",
      "memory usage: 522.6 KB\n"
     ]
    }
   ],
   "source": [
    "x.info()"
   ]
  },
  {
   "cell_type": "markdown",
   "id": "36613c8d",
   "metadata": {},
   "source": [
    "## <H2><p style=\"text-align: center;\"> Step 3: Splitting the Dataset into Train and Validation Sets"
   ]
  },
  {
   "cell_type": "code",
   "execution_count": 22,
   "id": "67104b81",
   "metadata": {},
   "outputs": [],
   "source": [
    "from sklearn.model_selection import train_test_split\n",
    "\n",
    "X_train,X_test,y_train,y_test=train_test_split(X,y, test_size=0.3,random_state=0)"
   ]
  },
  {
   "cell_type": "markdown",
   "id": "b6fe5e49",
   "metadata": {},
   "source": [
    "test_size = 0.3 implies 30% of the data is used for validating the model and the remaining 70% is used for training the model."
   ]
  },
  {
   "cell_type": "code",
   "execution_count": 23,
   "id": "f5d79d2a",
   "metadata": {},
   "outputs": [
    {
     "name": "stdout",
     "output_type": "stream",
     "text": [
      "X_train Shape: (3500, 15)\n",
      "y_train shape: (3500,)\n",
      "X_test shape: (1500, 15)\n",
      "y_test shape: (1500,)\n"
     ]
    }
   ],
   "source": [
    "print('X_train Shape:',X_train.shape)\n",
    "print('y_train shape:',y_train.shape)\n",
    "print('X_test shape:',X_test.shape)\n",
    "print('y_test shape:',y_test.shape)"
   ]
  },
  {
   "cell_type": "markdown",
   "id": "73d421e5",
   "metadata": {},
   "source": [
    "## Inference:\n",
    "\n",
    "X_train and y_train contain the independent variables and response variable values for the training \n",
    "dataset respectively. Similarly, X_test and y_test contain the independent variables and response variable \n",
    "values for the test dataset, respectively."
   ]
  },
  {
   "cell_type": "markdown",
   "id": "d2598d4a",
   "metadata": {},
   "source": [
    "<H2><p style=\"text-align: center;\"> Step 4: Building Logistic Regression Model"
   ]
  },
  {
   "cell_type": "code",
   "execution_count": 24,
   "id": "c1792ccc",
   "metadata": {},
   "outputs": [
    {
     "name": "stdout",
     "output_type": "stream",
     "text": [
      "Optimization terminated successfully.\n",
      "         Current function value: 0.115919\n",
      "         Iterations 9\n"
     ]
    }
   ],
   "source": [
    "logReg_1=sm.Logit(y_train,X_train)\n",
    "\n",
    "logReg_1=logReg_1.fit()"
   ]
  },
  {
   "cell_type": "code",
   "execution_count": 25,
   "id": "5e71841a",
   "metadata": {},
   "outputs": [
    {
     "data": {
      "text/html": [
       "<table class=\"simpletable\">\n",
       "<tr>\n",
       "        <td>Model:</td>              <td>Logit</td>      <td>Pseudo R-squared:</td>    <td>0.645</td>   \n",
       "</tr>\n",
       "<tr>\n",
       "  <td>Dependent Variable:</td>   <td>Personal Loan</td>        <td>AIC:</td>         <td>839.4350</td>  \n",
       "</tr>\n",
       "<tr>\n",
       "         <td>Date:</td>        <td>2022-10-19 19:57</td>       <td>BIC:</td>         <td>925.6823</td>  \n",
       "</tr>\n",
       "<tr>\n",
       "   <td>No. Observations:</td>        <td>3500</td>        <td>Log-Likelihood:</td>    <td>-405.72</td>  \n",
       "</tr>\n",
       "<tr>\n",
       "       <td>Df Model:</td>             <td>13</td>            <td>LL-Null:</td>        <td>-1142.2</td>  \n",
       "</tr>\n",
       "<tr>\n",
       "     <td>Df Residuals:</td>          <td>3486</td>         <td>LLR p-value:</td>    <td>2.9676e-307</td>\n",
       "</tr>\n",
       "<tr>\n",
       "      <td>Converged:</td>           <td>1.0000</td>           <td>Scale:</td>         <td>1.0000</td>   \n",
       "</tr>\n",
       "<tr>\n",
       "    <td>No. Iterations:</td>        <td>9.0000</td>              <td></td>               <td></td>      \n",
       "</tr>\n",
       "</table>\n",
       "<table class=\"simpletable\">\n",
       "<tr>\n",
       "           <td></td>           <th>Coef.</th>  <th>Std.Err.</th>    <th>z</th>     <th>P>|z|</th> <th>[0.025</th>  <th>0.975]</th> \n",
       "</tr>\n",
       "<tr>\n",
       "  <th>const</th>              <td>-3.5808</td>    <td>nan</td>     <td>nan</td>     <td>nan</td>    <td>nan</td>     <td>nan</td>  \n",
       "</tr>\n",
       "<tr>\n",
       "  <th>Age</th>                <td>-0.0773</td>  <td>0.0811</td>  <td>-0.9525</td> <td>0.3408</td> <td>-0.2362</td> <td>0.0817</td> \n",
       "</tr>\n",
       "<tr>\n",
       "  <th>Experience</th>         <td>0.0820</td>   <td>0.0803</td>  <td>1.0211</td>  <td>0.3072</td> <td>-0.0754</td> <td>0.2395</td> \n",
       "</tr>\n",
       "<tr>\n",
       "  <th>Income</th>             <td>0.0609</td>   <td>0.0036</td>  <td>16.7334</td> <td>0.0000</td> <td>0.0537</td>  <td>0.0680</td> \n",
       "</tr>\n",
       "<tr>\n",
       "  <th>ZIP Code</th>           <td>-0.0000</td>  <td>0.0001</td>  <td>-0.7796</td> <td>0.4356</td> <td>-0.0001</td> <td>0.0001</td> \n",
       "</tr>\n",
       "<tr>\n",
       "  <th>Family</th>             <td>0.5514</td>   <td>0.0914</td>  <td>6.0306</td>  <td>0.0000</td> <td>0.3722</td>  <td>0.7307</td> \n",
       "</tr>\n",
       "<tr>\n",
       "  <th>CCAvg</th>              <td>0.2478</td>   <td>0.0544</td>  <td>4.5581</td>  <td>0.0000</td> <td>0.1412</td>  <td>0.3544</td> \n",
       "</tr>\n",
       "<tr>\n",
       "  <th>Mortgage</th>           <td>0.0010</td>   <td>0.0007</td>  <td>1.4180</td>  <td>0.1562</td> <td>-0.0004</td> <td>0.0025</td> \n",
       "</tr>\n",
       "<tr>\n",
       "  <th>Securities Account</th> <td>-0.7922</td>  <td>0.3519</td>  <td>-2.2511</td> <td>0.0244</td> <td>-1.4819</td> <td>-0.1025</td>\n",
       "</tr>\n",
       "<tr>\n",
       "  <th>CD Account</th>         <td>3.9081</td>   <td>0.4141</td>  <td>9.4364</td>  <td>0.0000</td> <td>3.0964</td>  <td>4.7198</td> \n",
       "</tr>\n",
       "<tr>\n",
       "  <th>Online</th>             <td>-0.9033</td>  <td>0.1994</td>  <td>-4.5297</td> <td>0.0000</td> <td>-1.2941</td> <td>-0.5125</td>\n",
       "</tr>\n",
       "<tr>\n",
       "  <th>CreditCard</th>         <td>-1.0090</td>  <td>0.2516</td>  <td>-4.0102</td> <td>0.0001</td> <td>-1.5021</td> <td>-0.5159</td>\n",
       "</tr>\n",
       "<tr>\n",
       "  <th>Education_1</th>        <td>-4.1784</td>    <td>nan</td>     <td>nan</td>     <td>nan</td>    <td>nan</td>     <td>nan</td>  \n",
       "</tr>\n",
       "<tr>\n",
       "  <th>Education_2</th>        <td>0.3085</td>     <td>nan</td>     <td>nan</td>     <td>nan</td>    <td>nan</td>     <td>nan</td>  \n",
       "</tr>\n",
       "<tr>\n",
       "  <th>Education_3</th>        <td>0.2891</td>     <td>nan</td>     <td>nan</td>     <td>nan</td>    <td>nan</td>     <td>nan</td>  \n",
       "</tr>\n",
       "</table>"
      ],
      "text/plain": [
       "<class 'statsmodels.iolib.summary2.Summary'>\n",
       "\"\"\"\n",
       "                          Results: Logit\n",
       "==================================================================\n",
       "Model:              Logit            Pseudo R-squared: 0.645      \n",
       "Dependent Variable: Personal Loan    AIC:              839.4350   \n",
       "Date:               2022-10-19 19:57 BIC:              925.6823   \n",
       "No. Observations:   3500             Log-Likelihood:   -405.72    \n",
       "Df Model:           13               LL-Null:          -1142.2    \n",
       "Df Residuals:       3486             LLR p-value:      2.9676e-307\n",
       "Converged:          1.0000           Scale:            1.0000     \n",
       "No. Iterations:     9.0000                                        \n",
       "------------------------------------------------------------------\n",
       "                    Coef.  Std.Err.    z    P>|z|   [0.025  0.975]\n",
       "------------------------------------------------------------------\n",
       "const              -3.5808      nan     nan    nan     nan     nan\n",
       "Age                -0.0773   0.0811 -0.9525 0.3408 -0.2362  0.0817\n",
       "Experience          0.0820   0.0803  1.0211 0.3072 -0.0754  0.2395\n",
       "Income              0.0609   0.0036 16.7334 0.0000  0.0537  0.0680\n",
       "ZIP Code           -0.0000   0.0001 -0.7796 0.4356 -0.0001  0.0001\n",
       "Family              0.5514   0.0914  6.0306 0.0000  0.3722  0.7307\n",
       "CCAvg               0.2478   0.0544  4.5581 0.0000  0.1412  0.3544\n",
       "Mortgage            0.0010   0.0007  1.4180 0.1562 -0.0004  0.0025\n",
       "Securities Account -0.7922   0.3519 -2.2511 0.0244 -1.4819 -0.1025\n",
       "CD Account          3.9081   0.4141  9.4364 0.0000  3.0964  4.7198\n",
       "Online             -0.9033   0.1994 -4.5297 0.0000 -1.2941 -0.5125\n",
       "CreditCard         -1.0090   0.2516 -4.0102 0.0001 -1.5021 -0.5159\n",
       "Education_1        -4.1784      nan     nan    nan     nan     nan\n",
       "Education_2         0.3085      nan     nan    nan     nan     nan\n",
       "Education_3         0.2891      nan     nan    nan     nan     nan\n",
       "==================================================================\n",
       "\n",
       "\"\"\""
      ]
     },
     "execution_count": 25,
     "metadata": {},
     "output_type": "execute_result"
    }
   ],
   "source": [
    "logReg_1.summary2()"
   ]
  },
  {
   "cell_type": "code",
   "execution_count": 26,
   "id": "df6e7ef4",
   "metadata": {},
   "outputs": [],
   "source": [
    "\n",
    "X_new_1=X.drop(['Age','Mortgage','Education_1','Education_2','Education_3','Experience', 'ZIP Code'],axis=1)"
   ]
  },
  {
   "cell_type": "code",
   "execution_count": 27,
   "id": "7342bea0",
   "metadata": {},
   "outputs": [
    {
     "data": {
      "text/html": [
       "<div>\n",
       "<style scoped>\n",
       "    .dataframe tbody tr th:only-of-type {\n",
       "        vertical-align: middle;\n",
       "    }\n",
       "\n",
       "    .dataframe tbody tr th {\n",
       "        vertical-align: top;\n",
       "    }\n",
       "\n",
       "    .dataframe thead th {\n",
       "        text-align: right;\n",
       "    }\n",
       "</style>\n",
       "<table border=\"1\" class=\"dataframe\">\n",
       "  <thead>\n",
       "    <tr style=\"text-align: right;\">\n",
       "      <th></th>\n",
       "      <th>const</th>\n",
       "      <th>Income</th>\n",
       "      <th>Family</th>\n",
       "      <th>CCAvg</th>\n",
       "      <th>Securities Account</th>\n",
       "      <th>CD Account</th>\n",
       "      <th>Online</th>\n",
       "      <th>CreditCard</th>\n",
       "    </tr>\n",
       "  </thead>\n",
       "  <tbody>\n",
       "    <tr>\n",
       "      <th>0</th>\n",
       "      <td>1.0</td>\n",
       "      <td>49</td>\n",
       "      <td>4</td>\n",
       "      <td>1.6</td>\n",
       "      <td>1</td>\n",
       "      <td>0</td>\n",
       "      <td>0</td>\n",
       "      <td>0</td>\n",
       "    </tr>\n",
       "    <tr>\n",
       "      <th>1</th>\n",
       "      <td>1.0</td>\n",
       "      <td>34</td>\n",
       "      <td>3</td>\n",
       "      <td>1.5</td>\n",
       "      <td>1</td>\n",
       "      <td>0</td>\n",
       "      <td>0</td>\n",
       "      <td>0</td>\n",
       "    </tr>\n",
       "    <tr>\n",
       "      <th>2</th>\n",
       "      <td>1.0</td>\n",
       "      <td>11</td>\n",
       "      <td>1</td>\n",
       "      <td>1.0</td>\n",
       "      <td>0</td>\n",
       "      <td>0</td>\n",
       "      <td>0</td>\n",
       "      <td>0</td>\n",
       "    </tr>\n",
       "    <tr>\n",
       "      <th>3</th>\n",
       "      <td>1.0</td>\n",
       "      <td>100</td>\n",
       "      <td>1</td>\n",
       "      <td>2.7</td>\n",
       "      <td>0</td>\n",
       "      <td>0</td>\n",
       "      <td>0</td>\n",
       "      <td>0</td>\n",
       "    </tr>\n",
       "    <tr>\n",
       "      <th>4</th>\n",
       "      <td>1.0</td>\n",
       "      <td>45</td>\n",
       "      <td>4</td>\n",
       "      <td>1.0</td>\n",
       "      <td>0</td>\n",
       "      <td>0</td>\n",
       "      <td>0</td>\n",
       "      <td>1</td>\n",
       "    </tr>\n",
       "  </tbody>\n",
       "</table>\n",
       "</div>"
      ],
      "text/plain": [
       "   const  Income  Family  CCAvg  Securities Account  CD Account  Online  \\\n",
       "0    1.0      49       4    1.6                   1           0       0   \n",
       "1    1.0      34       3    1.5                   1           0       0   \n",
       "2    1.0      11       1    1.0                   0           0       0   \n",
       "3    1.0     100       1    2.7                   0           0       0   \n",
       "4    1.0      45       4    1.0                   0           0       0   \n",
       "\n",
       "   CreditCard  \n",
       "0           0  \n",
       "1           0  \n",
       "2           0  \n",
       "3           0  \n",
       "4           1  "
      ]
     },
     "execution_count": 27,
     "metadata": {},
     "output_type": "execute_result"
    }
   ],
   "source": [
    "X_new_1.head()"
   ]
  },
  {
   "cell_type": "markdown",
   "id": "bfa99525",
   "metadata": {},
   "source": [
    "## Inference\n",
    "•\tThe model summary suggests that as per Wald’s test, only 7 features are statistically significant at a significant value of α=0.05, as p-values are less than 0.05. p-value for likelihood ratio test (almost 0.00) indicates that the overall model is statistically significant.\n",
    "\n",
    "•\tIn this case 'Age','Mortgage','Education_1','Education_2','Education_3','Experience', 'ZIP Code' all the attributes have a high p-value which means it is not significant therefore we can drop the complete variable."
   ]
  },
  {
   "cell_type": "markdown",
   "id": "80206097",
   "metadata": {},
   "source": [
    "### 4 (a). Model Diagnostics\n"
   ]
  },
  {
   "cell_type": "code",
   "execution_count": 28,
   "id": "ed725ab4",
   "metadata": {},
   "outputs": [],
   "source": [
    "from sklearn.model_selection import train_test_split\n",
    "\n",
    "X_train,X_test,y_train,y_test=train_test_split(X_new_1,y, test_size=0.3,random_state=10)"
   ]
  },
  {
   "cell_type": "code",
   "execution_count": 29,
   "id": "73bb64a5",
   "metadata": {},
   "outputs": [
    {
     "data": {
      "text/plain": [
       "((3500, 8), (1500, 8), (3500,), (1500,))"
      ]
     },
     "execution_count": 29,
     "metadata": {},
     "output_type": "execute_result"
    }
   ],
   "source": [
    "X_train.shape,X_test.shape,y_train.shape,y_test.shape"
   ]
  },
  {
   "cell_type": "code",
   "execution_count": 30,
   "id": "b512cc9e",
   "metadata": {},
   "outputs": [
    {
     "name": "stdout",
     "output_type": "stream",
     "text": [
      "Optimization terminated successfully.\n",
      "         Current function value: 0.159433\n",
      "         Iterations 9\n"
     ]
    }
   ],
   "source": [
    "logReg_2=sm.Logit(y_train,X_train)\n",
    "logReg_2=logReg_2.fit()"
   ]
  },
  {
   "cell_type": "code",
   "execution_count": 31,
   "id": "5cee6eef",
   "metadata": {},
   "outputs": [
    {
     "data": {
      "text/html": [
       "<table class=\"simpletable\">\n",
       "<tr>\n",
       "        <td>Model:</td>              <td>Logit</td>      <td>Pseudo R-squared:</td>    <td>0.500</td>   \n",
       "</tr>\n",
       "<tr>\n",
       "  <td>Dependent Variable:</td>   <td>Personal Loan</td>        <td>AIC:</td>         <td>1132.0330</td> \n",
       "</tr>\n",
       "<tr>\n",
       "         <td>Date:</td>        <td>2022-10-19 19:58</td>       <td>BIC:</td>         <td>1181.3171</td> \n",
       "</tr>\n",
       "<tr>\n",
       "   <td>No. Observations:</td>        <td>3500</td>        <td>Log-Likelihood:</td>    <td>-558.02</td>  \n",
       "</tr>\n",
       "<tr>\n",
       "       <td>Df Model:</td>              <td>7</td>            <td>LL-Null:</td>        <td>-1115.7</td>  \n",
       "</tr>\n",
       "<tr>\n",
       "     <td>Df Residuals:</td>          <td>3492</td>         <td>LLR p-value:</td>    <td>1.4642e-236</td>\n",
       "</tr>\n",
       "<tr>\n",
       "      <td>Converged:</td>           <td>1.0000</td>           <td>Scale:</td>         <td>1.0000</td>   \n",
       "</tr>\n",
       "<tr>\n",
       "    <td>No. Iterations:</td>        <td>9.0000</td>              <td></td>               <td></td>      \n",
       "</tr>\n",
       "</table>\n",
       "<table class=\"simpletable\">\n",
       "<tr>\n",
       "           <td></td>           <th>Coef.</th>  <th>Std.Err.</th>     <th>z</th>     <th>P>|z|</th> <th>[0.025</th>  <th>0.975]</th> \n",
       "</tr>\n",
       "<tr>\n",
       "  <th>const</th>              <td>-8.7269</td>  <td>0.4370</td>  <td>-19.9715</td> <td>0.0000</td> <td>-9.5834</td> <td>-7.8705</td>\n",
       "</tr>\n",
       "<tr>\n",
       "  <th>Income</th>             <td>0.0442</td>   <td>0.0024</td>   <td>18.2322</td> <td>0.0000</td> <td>0.0394</td>  <td>0.0489</td> \n",
       "</tr>\n",
       "<tr>\n",
       "  <th>Family</th>             <td>0.8247</td>   <td>0.0839</td>   <td>9.8345</td>  <td>0.0000</td> <td>0.6604</td>  <td>0.9891</td> \n",
       "</tr>\n",
       "<tr>\n",
       "  <th>CCAvg</th>              <td>0.0479</td>   <td>0.0400</td>   <td>1.1978</td>  <td>0.2310</td> <td>-0.0305</td> <td>0.1263</td> \n",
       "</tr>\n",
       "<tr>\n",
       "  <th>Securities Account</th> <td>-0.6243</td>  <td>0.2886</td>   <td>-2.1629</td> <td>0.0305</td> <td>-1.1900</td> <td>-0.0586</td>\n",
       "</tr>\n",
       "<tr>\n",
       "  <th>CD Account</th>         <td>3.4840</td>   <td>0.3264</td>   <td>10.6755</td> <td>0.0000</td> <td>2.8444</td>  <td>4.1237</td> \n",
       "</tr>\n",
       "<tr>\n",
       "  <th>Online</th>             <td>-0.7000</td>  <td>0.1684</td>   <td>-4.1557</td> <td>0.0000</td> <td>-1.0301</td> <td>-0.3699</td>\n",
       "</tr>\n",
       "<tr>\n",
       "  <th>CreditCard</th>         <td>-1.0337</td>  <td>0.2134</td>   <td>-4.8436</td> <td>0.0000</td> <td>-1.4520</td> <td>-0.6154</td>\n",
       "</tr>\n",
       "</table>"
      ],
      "text/plain": [
       "<class 'statsmodels.iolib.summary2.Summary'>\n",
       "\"\"\"\n",
       "                          Results: Logit\n",
       "===================================================================\n",
       "Model:               Logit            Pseudo R-squared: 0.500      \n",
       "Dependent Variable:  Personal Loan    AIC:              1132.0330  \n",
       "Date:                2022-10-19 19:58 BIC:              1181.3171  \n",
       "No. Observations:    3500             Log-Likelihood:   -558.02    \n",
       "Df Model:            7                LL-Null:          -1115.7    \n",
       "Df Residuals:        3492             LLR p-value:      1.4642e-236\n",
       "Converged:           1.0000           Scale:            1.0000     \n",
       "No. Iterations:      9.0000                                        \n",
       "-------------------------------------------------------------------\n",
       "                    Coef.  Std.Err.    z     P>|z|   [0.025  0.975]\n",
       "-------------------------------------------------------------------\n",
       "const              -8.7269   0.4370 -19.9715 0.0000 -9.5834 -7.8705\n",
       "Income              0.0442   0.0024  18.2322 0.0000  0.0394  0.0489\n",
       "Family              0.8247   0.0839   9.8345 0.0000  0.6604  0.9891\n",
       "CCAvg               0.0479   0.0400   1.1978 0.2310 -0.0305  0.1263\n",
       "Securities Account -0.6243   0.2886  -2.1629 0.0305 -1.1900 -0.0586\n",
       "CD Account          3.4840   0.3264  10.6755 0.0000  2.8444  4.1237\n",
       "Online             -0.7000   0.1684  -4.1557 0.0000 -1.0301 -0.3699\n",
       "CreditCard         -1.0337   0.2134  -4.8436 0.0000 -1.4520 -0.6154\n",
       "===================================================================\n",
       "\n",
       "\"\"\""
      ]
     },
     "execution_count": 31,
     "metadata": {},
     "output_type": "execute_result"
    }
   ],
   "source": [
    "logReg_2.summary2()"
   ]
  },
  {
   "cell_type": "markdown",
   "id": "cb7e7d41",
   "metadata": {},
   "source": [
    "<H2><p style=\"text-align: center;\"> Step 5: Predicting on Test Data\n",
    "\n"
   ]
  },
  {
   "cell_type": "code",
   "execution_count": 32,
   "id": "f72a7779",
   "metadata": {},
   "outputs": [],
   "source": [
    "y_pred=logReg_2.predict(X_test)"
   ]
  },
  {
   "cell_type": "code",
   "execution_count": 33,
   "id": "6c2c6492",
   "metadata": {},
   "outputs": [
    {
     "data": {
      "text/plain": [
       "245     0.002666\n",
       "4493    0.001945\n",
       "4583    0.008283\n",
       "2242    0.000783\n",
       "3407    0.010409\n",
       "807     0.258443\n",
       "693     0.002721\n",
       "515     0.019965\n",
       "3224    0.006699\n",
       "549     0.003412\n",
       "4846    0.319515\n",
       "3863    0.005674\n",
       "29      0.324277\n",
       "3960    0.017536\n",
       "1444    0.769911\n",
       "4313    0.002436\n",
       "484     0.021729\n",
       "3235    0.002530\n",
       "1175    0.000881\n",
       "274     0.023896\n",
       "dtype: float64"
      ]
     },
     "execution_count": 33,
     "metadata": {},
     "output_type": "execute_result"
    }
   ],
   "source": [
    "y_pred.head(20)"
   ]
  },
  {
   "cell_type": "code",
   "execution_count": 34,
   "id": "1082e048",
   "metadata": {},
   "outputs": [],
   "source": [
    "# Create a DF\n",
    "\n",
    "pred_df= pd.DataFrame({'Actual_Class':y_test, 'Predicted_Prob':y_pred})"
   ]
  },
  {
   "cell_type": "code",
   "execution_count": 35,
   "id": "329c131e",
   "metadata": {},
   "outputs": [
    {
     "data": {
      "text/html": [
       "<div>\n",
       "<style scoped>\n",
       "    .dataframe tbody tr th:only-of-type {\n",
       "        vertical-align: middle;\n",
       "    }\n",
       "\n",
       "    .dataframe tbody tr th {\n",
       "        vertical-align: top;\n",
       "    }\n",
       "\n",
       "    .dataframe thead th {\n",
       "        text-align: right;\n",
       "    }\n",
       "</style>\n",
       "<table border=\"1\" class=\"dataframe\">\n",
       "  <thead>\n",
       "    <tr style=\"text-align: right;\">\n",
       "      <th></th>\n",
       "      <th>Actual_Class</th>\n",
       "      <th>Predicted_Prob</th>\n",
       "    </tr>\n",
       "  </thead>\n",
       "  <tbody>\n",
       "    <tr>\n",
       "      <th>245</th>\n",
       "      <td>0</td>\n",
       "      <td>0.002666</td>\n",
       "    </tr>\n",
       "    <tr>\n",
       "      <th>4493</th>\n",
       "      <td>0</td>\n",
       "      <td>0.001945</td>\n",
       "    </tr>\n",
       "    <tr>\n",
       "      <th>4583</th>\n",
       "      <td>1</td>\n",
       "      <td>0.008283</td>\n",
       "    </tr>\n",
       "    <tr>\n",
       "      <th>2242</th>\n",
       "      <td>0</td>\n",
       "      <td>0.000783</td>\n",
       "    </tr>\n",
       "    <tr>\n",
       "      <th>3407</th>\n",
       "      <td>0</td>\n",
       "      <td>0.010409</td>\n",
       "    </tr>\n",
       "    <tr>\n",
       "      <th>807</th>\n",
       "      <td>0</td>\n",
       "      <td>0.258443</td>\n",
       "    </tr>\n",
       "    <tr>\n",
       "      <th>693</th>\n",
       "      <td>0</td>\n",
       "      <td>0.002721</td>\n",
       "    </tr>\n",
       "    <tr>\n",
       "      <th>515</th>\n",
       "      <td>0</td>\n",
       "      <td>0.019965</td>\n",
       "    </tr>\n",
       "    <tr>\n",
       "      <th>3224</th>\n",
       "      <td>0</td>\n",
       "      <td>0.006699</td>\n",
       "    </tr>\n",
       "    <tr>\n",
       "      <th>549</th>\n",
       "      <td>0</td>\n",
       "      <td>0.003412</td>\n",
       "    </tr>\n",
       "    <tr>\n",
       "      <th>4846</th>\n",
       "      <td>1</td>\n",
       "      <td>0.319515</td>\n",
       "    </tr>\n",
       "    <tr>\n",
       "      <th>3863</th>\n",
       "      <td>0</td>\n",
       "      <td>0.005674</td>\n",
       "    </tr>\n",
       "    <tr>\n",
       "      <th>29</th>\n",
       "      <td>1</td>\n",
       "      <td>0.324277</td>\n",
       "    </tr>\n",
       "    <tr>\n",
       "      <th>3960</th>\n",
       "      <td>0</td>\n",
       "      <td>0.017536</td>\n",
       "    </tr>\n",
       "    <tr>\n",
       "      <th>1444</th>\n",
       "      <td>1</td>\n",
       "      <td>0.769911</td>\n",
       "    </tr>\n",
       "  </tbody>\n",
       "</table>\n",
       "</div>"
      ],
      "text/plain": [
       "      Actual_Class  Predicted_Prob\n",
       "245              0        0.002666\n",
       "4493             0        0.001945\n",
       "4583             1        0.008283\n",
       "2242             0        0.000783\n",
       "3407             0        0.010409\n",
       "807              0        0.258443\n",
       "693              0        0.002721\n",
       "515              0        0.019965\n",
       "3224             0        0.006699\n",
       "549              0        0.003412\n",
       "4846             1        0.319515\n",
       "3863             0        0.005674\n",
       "29               1        0.324277\n",
       "3960             0        0.017536\n",
       "1444             1        0.769911"
      ]
     },
     "execution_count": 35,
     "metadata": {},
     "output_type": "execute_result"
    }
   ],
   "source": [
    "pred_df.head(15)"
   ]
  },
  {
   "cell_type": "markdown",
   "id": "6d44e23e",
   "metadata": {},
   "source": [
    "## Inference:\n",
    "To understand how many observations the model has classified correctly and how many it has not, a cut-off probability needs to be assumed. Assume that the cut-off probability is 0.5; then all observations with predicted probability of more than 0.5 will be predicted as bad credits(1) and rest all as good credits(0). "
   ]
  },
  {
   "cell_type": "code",
   "execution_count": 36,
   "id": "84512b9f",
   "metadata": {},
   "outputs": [],
   "source": [
    "pred_df['Predicted_Class']=pred_df['Predicted_Prob'].map(lambda x: 1 if x>0.5 else 0)"
   ]
  },
  {
   "cell_type": "code",
   "execution_count": 37,
   "id": "5b851289",
   "metadata": {},
   "outputs": [
    {
     "data": {
      "text/html": [
       "<div>\n",
       "<style scoped>\n",
       "    .dataframe tbody tr th:only-of-type {\n",
       "        vertical-align: middle;\n",
       "    }\n",
       "\n",
       "    .dataframe tbody tr th {\n",
       "        vertical-align: top;\n",
       "    }\n",
       "\n",
       "    .dataframe thead th {\n",
       "        text-align: right;\n",
       "    }\n",
       "</style>\n",
       "<table border=\"1\" class=\"dataframe\">\n",
       "  <thead>\n",
       "    <tr style=\"text-align: right;\">\n",
       "      <th></th>\n",
       "      <th>Actual_Class</th>\n",
       "      <th>Predicted_Prob</th>\n",
       "      <th>Predicted_Class</th>\n",
       "    </tr>\n",
       "  </thead>\n",
       "  <tbody>\n",
       "    <tr>\n",
       "      <th>245</th>\n",
       "      <td>0</td>\n",
       "      <td>0.002666</td>\n",
       "      <td>0</td>\n",
       "    </tr>\n",
       "    <tr>\n",
       "      <th>4493</th>\n",
       "      <td>0</td>\n",
       "      <td>0.001945</td>\n",
       "      <td>0</td>\n",
       "    </tr>\n",
       "    <tr>\n",
       "      <th>4583</th>\n",
       "      <td>1</td>\n",
       "      <td>0.008283</td>\n",
       "      <td>0</td>\n",
       "    </tr>\n",
       "    <tr>\n",
       "      <th>2242</th>\n",
       "      <td>0</td>\n",
       "      <td>0.000783</td>\n",
       "      <td>0</td>\n",
       "    </tr>\n",
       "    <tr>\n",
       "      <th>3407</th>\n",
       "      <td>0</td>\n",
       "      <td>0.010409</td>\n",
       "      <td>0</td>\n",
       "    </tr>\n",
       "    <tr>\n",
       "      <th>807</th>\n",
       "      <td>0</td>\n",
       "      <td>0.258443</td>\n",
       "      <td>0</td>\n",
       "    </tr>\n",
       "    <tr>\n",
       "      <th>693</th>\n",
       "      <td>0</td>\n",
       "      <td>0.002721</td>\n",
       "      <td>0</td>\n",
       "    </tr>\n",
       "    <tr>\n",
       "      <th>515</th>\n",
       "      <td>0</td>\n",
       "      <td>0.019965</td>\n",
       "      <td>0</td>\n",
       "    </tr>\n",
       "    <tr>\n",
       "      <th>3224</th>\n",
       "      <td>0</td>\n",
       "      <td>0.006699</td>\n",
       "      <td>0</td>\n",
       "    </tr>\n",
       "    <tr>\n",
       "      <th>549</th>\n",
       "      <td>0</td>\n",
       "      <td>0.003412</td>\n",
       "      <td>0</td>\n",
       "    </tr>\n",
       "    <tr>\n",
       "      <th>4846</th>\n",
       "      <td>1</td>\n",
       "      <td>0.319515</td>\n",
       "      <td>0</td>\n",
       "    </tr>\n",
       "    <tr>\n",
       "      <th>3863</th>\n",
       "      <td>0</td>\n",
       "      <td>0.005674</td>\n",
       "      <td>0</td>\n",
       "    </tr>\n",
       "    <tr>\n",
       "      <th>29</th>\n",
       "      <td>1</td>\n",
       "      <td>0.324277</td>\n",
       "      <td>0</td>\n",
       "    </tr>\n",
       "    <tr>\n",
       "      <th>3960</th>\n",
       "      <td>0</td>\n",
       "      <td>0.017536</td>\n",
       "      <td>0</td>\n",
       "    </tr>\n",
       "    <tr>\n",
       "      <th>1444</th>\n",
       "      <td>1</td>\n",
       "      <td>0.769911</td>\n",
       "      <td>1</td>\n",
       "    </tr>\n",
       "    <tr>\n",
       "      <th>4313</th>\n",
       "      <td>0</td>\n",
       "      <td>0.002436</td>\n",
       "      <td>0</td>\n",
       "    </tr>\n",
       "    <tr>\n",
       "      <th>484</th>\n",
       "      <td>0</td>\n",
       "      <td>0.021729</td>\n",
       "      <td>0</td>\n",
       "    </tr>\n",
       "    <tr>\n",
       "      <th>3235</th>\n",
       "      <td>0</td>\n",
       "      <td>0.002530</td>\n",
       "      <td>0</td>\n",
       "    </tr>\n",
       "    <tr>\n",
       "      <th>1175</th>\n",
       "      <td>0</td>\n",
       "      <td>0.000881</td>\n",
       "      <td>0</td>\n",
       "    </tr>\n",
       "    <tr>\n",
       "      <th>274</th>\n",
       "      <td>0</td>\n",
       "      <td>0.023896</td>\n",
       "      <td>0</td>\n",
       "    </tr>\n",
       "    <tr>\n",
       "      <th>4383</th>\n",
       "      <td>0</td>\n",
       "      <td>0.044105</td>\n",
       "      <td>0</td>\n",
       "    </tr>\n",
       "    <tr>\n",
       "      <th>3546</th>\n",
       "      <td>0</td>\n",
       "      <td>0.000309</td>\n",
       "      <td>0</td>\n",
       "    </tr>\n",
       "    <tr>\n",
       "      <th>4626</th>\n",
       "      <td>0</td>\n",
       "      <td>0.030642</td>\n",
       "      <td>0</td>\n",
       "    </tr>\n",
       "    <tr>\n",
       "      <th>1122</th>\n",
       "      <td>0</td>\n",
       "      <td>0.001033</td>\n",
       "      <td>0</td>\n",
       "    </tr>\n",
       "    <tr>\n",
       "      <th>1589</th>\n",
       "      <td>1</td>\n",
       "      <td>0.042614</td>\n",
       "      <td>0</td>\n",
       "    </tr>\n",
       "    <tr>\n",
       "      <th>2133</th>\n",
       "      <td>0</td>\n",
       "      <td>0.001236</td>\n",
       "      <td>0</td>\n",
       "    </tr>\n",
       "    <tr>\n",
       "      <th>4182</th>\n",
       "      <td>0</td>\n",
       "      <td>0.002713</td>\n",
       "      <td>0</td>\n",
       "    </tr>\n",
       "    <tr>\n",
       "      <th>3751</th>\n",
       "      <td>0</td>\n",
       "      <td>0.003874</td>\n",
       "      <td>0</td>\n",
       "    </tr>\n",
       "    <tr>\n",
       "      <th>2636</th>\n",
       "      <td>0</td>\n",
       "      <td>0.378878</td>\n",
       "      <td>0</td>\n",
       "    </tr>\n",
       "    <tr>\n",
       "      <th>1961</th>\n",
       "      <td>0</td>\n",
       "      <td>0.067303</td>\n",
       "      <td>0</td>\n",
       "    </tr>\n",
       "    <tr>\n",
       "      <th>3879</th>\n",
       "      <td>0</td>\n",
       "      <td>0.158568</td>\n",
       "      <td>0</td>\n",
       "    </tr>\n",
       "    <tr>\n",
       "      <th>88</th>\n",
       "      <td>0</td>\n",
       "      <td>0.004191</td>\n",
       "      <td>0</td>\n",
       "    </tr>\n",
       "    <tr>\n",
       "      <th>987</th>\n",
       "      <td>0</td>\n",
       "      <td>0.019253</td>\n",
       "      <td>0</td>\n",
       "    </tr>\n",
       "    <tr>\n",
       "      <th>1259</th>\n",
       "      <td>0</td>\n",
       "      <td>0.010238</td>\n",
       "      <td>0</td>\n",
       "    </tr>\n",
       "    <tr>\n",
       "      <th>2127</th>\n",
       "      <td>0</td>\n",
       "      <td>0.697206</td>\n",
       "      <td>1</td>\n",
       "    </tr>\n",
       "    <tr>\n",
       "      <th>2136</th>\n",
       "      <td>1</td>\n",
       "      <td>0.021975</td>\n",
       "      <td>0</td>\n",
       "    </tr>\n",
       "    <tr>\n",
       "      <th>2806</th>\n",
       "      <td>0</td>\n",
       "      <td>0.005874</td>\n",
       "      <td>0</td>\n",
       "    </tr>\n",
       "    <tr>\n",
       "      <th>1612</th>\n",
       "      <td>0</td>\n",
       "      <td>0.001642</td>\n",
       "      <td>0</td>\n",
       "    </tr>\n",
       "    <tr>\n",
       "      <th>1441</th>\n",
       "      <td>0</td>\n",
       "      <td>0.003018</td>\n",
       "      <td>0</td>\n",
       "    </tr>\n",
       "    <tr>\n",
       "      <th>1885</th>\n",
       "      <td>0</td>\n",
       "      <td>0.058133</td>\n",
       "      <td>0</td>\n",
       "    </tr>\n",
       "    <tr>\n",
       "      <th>4174</th>\n",
       "      <td>0</td>\n",
       "      <td>0.013112</td>\n",
       "      <td>0</td>\n",
       "    </tr>\n",
       "    <tr>\n",
       "      <th>3234</th>\n",
       "      <td>0</td>\n",
       "      <td>0.131776</td>\n",
       "      <td>0</td>\n",
       "    </tr>\n",
       "    <tr>\n",
       "      <th>1808</th>\n",
       "      <td>0</td>\n",
       "      <td>0.020915</td>\n",
       "      <td>0</td>\n",
       "    </tr>\n",
       "    <tr>\n",
       "      <th>4100</th>\n",
       "      <td>0</td>\n",
       "      <td>0.002776</td>\n",
       "      <td>0</td>\n",
       "    </tr>\n",
       "    <tr>\n",
       "      <th>4132</th>\n",
       "      <td>0</td>\n",
       "      <td>0.069185</td>\n",
       "      <td>0</td>\n",
       "    </tr>\n",
       "    <tr>\n",
       "      <th>1676</th>\n",
       "      <td>0</td>\n",
       "      <td>0.061070</td>\n",
       "      <td>0</td>\n",
       "    </tr>\n",
       "    <tr>\n",
       "      <th>4792</th>\n",
       "      <td>0</td>\n",
       "      <td>0.007826</td>\n",
       "      <td>0</td>\n",
       "    </tr>\n",
       "    <tr>\n",
       "      <th>4716</th>\n",
       "      <td>0</td>\n",
       "      <td>0.009320</td>\n",
       "      <td>0</td>\n",
       "    </tr>\n",
       "    <tr>\n",
       "      <th>4908</th>\n",
       "      <td>0</td>\n",
       "      <td>0.200065</td>\n",
       "      <td>0</td>\n",
       "    </tr>\n",
       "    <tr>\n",
       "      <th>4567</th>\n",
       "      <td>0</td>\n",
       "      <td>0.001213</td>\n",
       "      <td>0</td>\n",
       "    </tr>\n",
       "  </tbody>\n",
       "</table>\n",
       "</div>"
      ],
      "text/plain": [
       "      Actual_Class  Predicted_Prob  Predicted_Class\n",
       "245              0        0.002666                0\n",
       "4493             0        0.001945                0\n",
       "4583             1        0.008283                0\n",
       "2242             0        0.000783                0\n",
       "3407             0        0.010409                0\n",
       "807              0        0.258443                0\n",
       "693              0        0.002721                0\n",
       "515              0        0.019965                0\n",
       "3224             0        0.006699                0\n",
       "549              0        0.003412                0\n",
       "4846             1        0.319515                0\n",
       "3863             0        0.005674                0\n",
       "29               1        0.324277                0\n",
       "3960             0        0.017536                0\n",
       "1444             1        0.769911                1\n",
       "4313             0        0.002436                0\n",
       "484              0        0.021729                0\n",
       "3235             0        0.002530                0\n",
       "1175             0        0.000881                0\n",
       "274              0        0.023896                0\n",
       "4383             0        0.044105                0\n",
       "3546             0        0.000309                0\n",
       "4626             0        0.030642                0\n",
       "1122             0        0.001033                0\n",
       "1589             1        0.042614                0\n",
       "2133             0        0.001236                0\n",
       "4182             0        0.002713                0\n",
       "3751             0        0.003874                0\n",
       "2636             0        0.378878                0\n",
       "1961             0        0.067303                0\n",
       "3879             0        0.158568                0\n",
       "88               0        0.004191                0\n",
       "987              0        0.019253                0\n",
       "1259             0        0.010238                0\n",
       "2127             0        0.697206                1\n",
       "2136             1        0.021975                0\n",
       "2806             0        0.005874                0\n",
       "1612             0        0.001642                0\n",
       "1441             0        0.003018                0\n",
       "1885             0        0.058133                0\n",
       "4174             0        0.013112                0\n",
       "3234             0        0.131776                0\n",
       "1808             0        0.020915                0\n",
       "4100             0        0.002776                0\n",
       "4132             0        0.069185                0\n",
       "1676             0        0.061070                0\n",
       "4792             0        0.007826                0\n",
       "4716             0        0.009320                0\n",
       "4908             0        0.200065                0\n",
       "4567             0        0.001213                0"
      ]
     },
     "execution_count": 37,
     "metadata": {},
     "output_type": "execute_result"
    }
   ],
   "source": [
    "pred_df.iloc[0:50]"
   ]
  },
  {
   "cell_type": "markdown",
   "id": "32d82149",
   "metadata": {},
   "source": [
    "### Learning\n",
    "•\tThe actual column in the DataFrame depicts the actual label of the credit in the test set, while \n",
    "predicted column depicts what the model has predicted by taking 0.5 as cut-off probability value. For \n",
    "observation 4583, the model predicts very low probability (0.0082) of being a bad credit whereas it is actually \n",
    "a bad credit. The model has wrongly classified this one. But the model predicts high probability (0.7699) \n",
    "of being a bad credit for observation 1444, which is actually a bad credit. The model correctly predicted \n",
    "the class in this case.\n",
    "\n",
    "## Inference\n",
    "•\tIt can be noticed from actual and predicted columns that some classifications are correct and some are \n",
    "wrong. For better understanding of this confusion, we can build a confusion matrix."
   ]
  },
  {
   "cell_type": "markdown",
   "id": "12f571ee",
   "metadata": {},
   "source": [
    "<H2><p style=\"text-align: center;\"> Step 6: Performance Measures"
   ]
  },
  {
   "cell_type": "markdown",
   "id": "2c69366e",
   "metadata": {},
   "source": [
    "### 6 (a). Creating a Confusion Matrix\n",
    "\n"
   ]
  },
  {
   "cell_type": "markdown",
   "id": "0af6013a",
   "metadata": {},
   "source": [
    "Confusion matrix (also known as error matrix or classification table) is a matrix formed by checking \n",
    "the actual values and predicted values of observations in the dataset.\n"
   ]
  },
  {
   "cell_type": "code",
   "execution_count": 38,
   "id": "6b334588",
   "metadata": {},
   "outputs": [
    {
     "name": "stdout",
     "output_type": "stream",
     "text": [
      " Confusion matrix is given by: \n",
      " [[1319   41]\n",
      " [  63   77]]\n"
     ]
    }
   ],
   "source": [
    "from sklearn.metrics import confusion_matrix\n",
    "\n",
    "cm=confusion_matrix(pred_df['Actual_Class'],pred_df['Predicted_Class'])\n",
    "\n",
    "print(' Confusion matrix is given by: \\n',cm)"
   ]
  },
  {
   "cell_type": "code",
   "execution_count": 39,
   "id": "56199cb2",
   "metadata": {},
   "outputs": [
    {
     "data": {
      "image/png": "[encoded data removed]",
      "text/plain": [
       "<Figure size 432x288 with 2 Axes>"
      ]
     },
     "metadata": {
      "needs_background": "light"
     },
     "output_type": "display_data"
    }
   ],
   "source": [
    "from sklearn import metrics\n",
    "def draw_cm( actual, predicted ):\n",
    "## Cret\n",
    "    cm = metrics.confusion_matrix( Actual_Class, Predicted_Class, [1,0] ) \n",
    "sns.heatmap(cm, annot=True, fmt='.0f', xticklabels = ['Good Credit(0)','Bad credit(1)' ],\n",
    "           yticklabels = ['Good Credit(0)','Bad credit(1)'] )\n",
    "plt.ylabel('True label') \n",
    "plt.xlabel('Predicted label') \n",
    "plt.show()"
   ]
  },
  {
   "cell_type": "markdown",
   "id": "1fadcdc6",
   "metadata": {},
   "source": [
    "### Learning\n",
    "\n",
    "Each row represents the actual bad credit and good credit observations present in the test dataset \n",
    "and each column represents predicted values of outcome variable. We can note the following:\n",
    "1. Left-top quadrant represents actual good credit and is correctly classified as good credit. This is called True Positives (TP).\n",
    "2. Left-down quadrant represents actual bad credit and is incorrectly classified as good credit. This is called False Positives (FP).\n",
    "3. Right-top quadrant represents actual good credit and is incorrectly classified as bad credit. This is called False Negatives (FN).\n",
    "4. Right-down quadrant represents actual bad credit and is correctly classified as bad credit. This is called True Negatives (TN)."
   ]
  },
  {
   "cell_type": "markdown",
   "id": "23545ada",
   "metadata": {},
   "source": [
    "## Inference\n",
    "\n",
    "•\tOut of 1360 (i.e., 1319 + 41) good credits, 1319 have been classified correctly as good credits and rest 41 have been classified as bad credits when the cut-off probability is 0.5.\n",
    "\n",
    "•\tSimilarly, out of 140 (63 + 77) bad credits, only 63 have been classified as good credits and rest 77 have been classified as bad credits properly when cut-off probability is 0.5."
   ]
  },
  {
   "cell_type": "markdown",
   "id": "46feea03",
   "metadata": {},
   "source": [
    "<H2><p style=\"text-align: center;\"> Step 7: Measuring Accuracies"
   ]
  },
  {
   "cell_type": "code",
   "execution_count": 40,
   "id": "b60fa3cf",
   "metadata": {},
   "outputs": [
    {
     "name": "stdout",
     "output_type": "stream",
     "text": [
      "The Classification Report of the model:\n",
      "               precision    recall  f1-score   support\n",
      "\n",
      "           0       0.95      0.97      0.96      1360\n",
      "           1       0.65      0.55      0.60       140\n",
      "\n",
      "    accuracy                           0.93      1500\n",
      "   macro avg       0.80      0.76      0.78      1500\n",
      "weighted avg       0.93      0.93      0.93      1500\n",
      "\n"
     ]
    }
   ],
   "source": [
    "from sklearn.metrics import classification_report\n",
    "\n",
    "report=classification_report(pred_df['Actual_Class'],pred_df['Predicted_Class'])\n",
    "\n",
    "print('The Classification Report of the model:\\n',report)"
   ]
  },
  {
   "cell_type": "markdown",
   "id": "6a64fbe3",
   "metadata": {},
   "source": [
    "## Inference\n",
    "The model is very good at identifying the good credits (Y = 0), but not very bad at identifying good credits. This is the result for cut-off probability of 0.5%. This can be improved by choosing the right cut-off probability."
   ]
  },
  {
   "cell_type": "markdown",
   "id": "c62706a1",
   "metadata": {},
   "source": [
    "## Distributions of predicted probability values for good and bad credits "
   ]
  },
  {
   "cell_type": "code",
   "execution_count": 41,
   "id": "2242c5db",
   "metadata": {},
   "outputs": [
    {
     "name": "stderr",
     "output_type": "stream",
     "text": [
      "/Library/Frameworks/Python.framework/Versions/3.9/lib/python3.9/site-packages/seaborn/distributions.py:2619: FutureWarning: `distplot` is a deprecated function and will be removed in a future version. Please adapt your code to use either `displot` (a figure-level function with similar flexibility) or `histplot` (an axes-level function for histograms).\n",
      "  warnings.warn(msg, FutureWarning)\n",
      "/Library/Frameworks/Python.framework/Versions/3.9/lib/python3.9/site-packages/seaborn/distributions.py:2619: FutureWarning: `distplot` is a deprecated function and will be removed in a future version. Please adapt your code to use either `displot` (a figure-level function with similar flexibility) or `histplot` (an axes-level function for histograms).\n",
      "  warnings.warn(msg, FutureWarning)\n"
     ]
    },
    {
     "data": {
      "image/png": "[encoded data removed]",
      "text/plain": [
       "<Figure size 576x432 with 1 Axes>"
      ]
     },
     "metadata": {
      "needs_background": "light"
     },
     "output_type": "display_data"
    }
   ],
   "source": [
    "plt.figure( figsize = (8,6) )\n",
    "# Plotting distribution of predicted probability values for bad credits\n",
    "sns.distplot( pred_df[pred_df.Actual_Class == 1]['Predicted_Prob'], kde=False, color = 'b', label = 'Bad Credit')\n",
    "# Plotting distribution of predicted probability values for good credits\n",
    "sns.distplot( pred_df[pred_df.Actual_Class == 0]['Predicted_Prob'], kde=False, color = 'g', label = 'Good Credit') \n",
    "plt.legend()\n",
    "plt.show()"
   ]
  },
  {
   "cell_type": "markdown",
   "id": "6104f284",
   "metadata": {},
   "source": [
    "## Inference\n",
    "Larger the overlap between predicted probabilities for different classes,higher will be the misclassifications. From the above graph it can be seen that misclassification is low."
   ]
  },
  {
   "cell_type": "markdown",
   "id": "c8c3cdc8",
   "metadata": {},
   "source": [
    "<H2><p style=\"text-align: center;\"> Step 8: Receiver Operating Characteristic (ROC) and Area Under the Curve (AUC)"
   ]
  },
  {
   "cell_type": "code",
   "execution_count": 42,
   "id": "c23940c7",
   "metadata": {},
   "outputs": [],
   "source": [
    "from sklearn.metrics import roc_curve,roc_auc_score"
   ]
  },
  {
   "cell_type": "code",
   "execution_count": 43,
   "id": "52964a90",
   "metadata": {},
   "outputs": [],
   "source": [
    "fpr,tpr,threshold=roc_curve(pred_df['Actual_Class'],pred_df['Predicted_Prob'], drop_intermediate = False)"
   ]
  },
  {
   "cell_type": "code",
   "execution_count": 44,
   "id": "6a84306c",
   "metadata": {},
   "outputs": [
    {
     "name": "stdout",
     "output_type": "stream",
     "text": [
      "ROC AUC SCORE: 0.9347899159663865\n"
     ]
    },
    {
     "data": {
      "image/png": "[encoded data removed]",
      "text/plain": [
       "<Figure size 432x288 with 1 Axes>"
      ]
     },
     "metadata": {
      "needs_background": "light"
     },
     "output_type": "display_data"
    }
   ],
   "source": [
    "score=roc_auc_score(pred_df['Actual_Class'],pred_df['Predicted_Prob'])\n",
    "plt.plot(fpr, tpr, label= 'ROC curve (area = %0.2f)' % score );\n",
    "plt.plot([0,1],[0,1],color='r');\n",
    "plt.xlabel('FPR');\n",
    "plt.ylabel('TPR');\n",
    "plt.legend(loc=\"lower right\") \n",
    "plt.title(' ROC curve');\n",
    "\n",
    "\n",
    "print( 'ROC AUC SCORE:' , score)"
   ]
  },
  {
   "cell_type": "markdown",
   "id": "4fc4090c",
   "metadata": {},
   "source": [
    "## Inference\n",
    "The AUC is 0.93, which implies the model is outstanding."
   ]
  },
  {
   "cell_type": "markdown",
   "id": "e212ba7c",
   "metadata": {},
   "source": [
    "<H2><p style=\"text-align: center;\"> Step 9: Finding Optimal Classification Cut-off (Youden’s Index)"
   ]
  },
  {
   "cell_type": "markdown",
   "id": "c97c57bc",
   "metadata": {},
   "source": [
    "###### Sensitivity(TPR) and specificity(TNR) change when we change the cut-off probability. Youden’s index  is a classification cut-off probability for which the following function is maximized (also known as J-statistic):\n"
   ]
  },
  {
   "attachments": {
    "Annotation%202021-12-04%20012849.png": {
     "image/png": "[encoded data removed]"
    }
   },
   "cell_type": "markdown",
   "id": "fcc9b927",
   "metadata": {},
   "source": [
    "![Annotation%202021-12-04%20012849.png](attachment:Annotation%202021-12-04%20012849.png)"
   ]
  },
  {
   "cell_type": "code",
   "execution_count": 45,
   "id": "9dd89059",
   "metadata": {},
   "outputs": [
    {
     "data": {
      "text/html": [
       "<div>\n",
       "<style scoped>\n",
       "    .dataframe tbody tr th:only-of-type {\n",
       "        vertical-align: middle;\n",
       "    }\n",
       "\n",
       "    .dataframe tbody tr th {\n",
       "        vertical-align: top;\n",
       "    }\n",
       "\n",
       "    .dataframe thead th {\n",
       "        text-align: right;\n",
       "    }\n",
       "</style>\n",
       "<table border=\"1\" class=\"dataframe\">\n",
       "  <thead>\n",
       "    <tr style=\"text-align: right;\">\n",
       "      <th></th>\n",
       "      <th>tpr</th>\n",
       "      <th>fpr</th>\n",
       "      <th>thresholds</th>\n",
       "      <th>diff</th>\n",
       "    </tr>\n",
       "  </thead>\n",
       "  <tbody>\n",
       "    <tr>\n",
       "      <th>241</th>\n",
       "      <td>0.835714</td>\n",
       "      <td>0.091176</td>\n",
       "      <td>0.168603</td>\n",
       "      <td>0.744538</td>\n",
       "    </tr>\n",
       "    <tr>\n",
       "      <th>242</th>\n",
       "      <td>0.835714</td>\n",
       "      <td>0.091912</td>\n",
       "      <td>0.166601</td>\n",
       "      <td>0.743803</td>\n",
       "    </tr>\n",
       "    <tr>\n",
       "      <th>243</th>\n",
       "      <td>0.835714</td>\n",
       "      <td>0.092647</td>\n",
       "      <td>0.163958</td>\n",
       "      <td>0.743067</td>\n",
       "    </tr>\n",
       "    <tr>\n",
       "      <th>244</th>\n",
       "      <td>0.835714</td>\n",
       "      <td>0.093382</td>\n",
       "      <td>0.159791</td>\n",
       "      <td>0.742332</td>\n",
       "    </tr>\n",
       "    <tr>\n",
       "      <th>245</th>\n",
       "      <td>0.835714</td>\n",
       "      <td>0.094118</td>\n",
       "      <td>0.159559</td>\n",
       "      <td>0.741597</td>\n",
       "    </tr>\n",
       "    <tr>\n",
       "      <th>...</th>\n",
       "      <td>...</td>\n",
       "      <td>...</td>\n",
       "      <td>...</td>\n",
       "      <td>...</td>\n",
       "    </tr>\n",
       "    <tr>\n",
       "      <th>1464</th>\n",
       "      <td>1.000000</td>\n",
       "      <td>0.997059</td>\n",
       "      <td>0.000183</td>\n",
       "      <td>0.002941</td>\n",
       "    </tr>\n",
       "    <tr>\n",
       "      <th>1465</th>\n",
       "      <td>1.000000</td>\n",
       "      <td>0.997794</td>\n",
       "      <td>0.000177</td>\n",
       "      <td>0.002206</td>\n",
       "    </tr>\n",
       "    <tr>\n",
       "      <th>1466</th>\n",
       "      <td>1.000000</td>\n",
       "      <td>0.998529</td>\n",
       "      <td>0.000124</td>\n",
       "      <td>0.001471</td>\n",
       "    </tr>\n",
       "    <tr>\n",
       "      <th>0</th>\n",
       "      <td>0.000000</td>\n",
       "      <td>0.000000</td>\n",
       "      <td>1.993532</td>\n",
       "      <td>0.000000</td>\n",
       "    </tr>\n",
       "    <tr>\n",
       "      <th>1467</th>\n",
       "      <td>1.000000</td>\n",
       "      <td>1.000000</td>\n",
       "      <td>0.000107</td>\n",
       "      <td>0.000000</td>\n",
       "    </tr>\n",
       "  </tbody>\n",
       "</table>\n",
       "<p>1468 rows × 4 columns</p>\n",
       "</div>"
      ],
      "text/plain": [
       "           tpr       fpr  thresholds      diff\n",
       "241   0.835714  0.091176    0.168603  0.744538\n",
       "242   0.835714  0.091912    0.166601  0.743803\n",
       "243   0.835714  0.092647    0.163958  0.743067\n",
       "244   0.835714  0.093382    0.159791  0.742332\n",
       "245   0.835714  0.094118    0.159559  0.741597\n",
       "...        ...       ...         ...       ...\n",
       "1464  1.000000  0.997059    0.000183  0.002941\n",
       "1465  1.000000  0.997794    0.000177  0.002206\n",
       "1466  1.000000  0.998529    0.000124  0.001471\n",
       "0     0.000000  0.000000    1.993532  0.000000\n",
       "1467  1.000000  1.000000    0.000107  0.000000\n",
       "\n",
       "[1468 rows x 4 columns]"
      ]
     },
     "execution_count": 45,
     "metadata": {},
     "output_type": "execute_result"
    }
   ],
   "source": [
    "tpr_fpr = pd.DataFrame( { 'tpr': tpr, 'fpr': fpr, 'thresholds': threshold } )\n",
    "tpr_fpr['diff'] = tpr_fpr.tpr - tpr_fpr.fpr \n",
    "tpr_fpr.sort_values( 'diff', ascending = False )"
   ]
  },
  {
   "cell_type": "markdown",
   "id": "88410e39",
   "metadata": {},
   "source": [
    "### Learning\n",
    "From the above result, the optimal cut-off is 0.17. We can now classify all the observations beyond 0.17 predicted probability as bad credits and others as good credits."
   ]
  },
  {
   "cell_type": "code",
   "execution_count": 46,
   "id": "f5827f1f",
   "metadata": {},
   "outputs": [],
   "source": [
    "pred_df['Predicted_New'] = pred_df.Predicted_Prob.map( lambda x: 1 if x > 0.17 else 0)"
   ]
  },
  {
   "cell_type": "code",
   "execution_count": 47,
   "id": "905aeaee",
   "metadata": {},
   "outputs": [],
   "source": [
    "cm_new= confusion_matrix(pred_df['Actual_Class'],pred_df['Predicted_New'])"
   ]
  },
  {
   "cell_type": "code",
   "execution_count": 48,
   "id": "79710a83",
   "metadata": {},
   "outputs": [
    {
     "data": {
      "image/png": "[encoded data removed]",
      "text/plain": [
       "<Figure size 432x288 with 2 Axes>"
      ]
     },
     "metadata": {
      "needs_background": "light"
     },
     "output_type": "display_data"
    }
   ],
   "source": [
    "def draw_cm( actual, predicted ):\n",
    "\n",
    "    cm_new = metrics.confusion_matrix( Actual_Class, Predicted_New, [1,0] ) \n",
    "sns.heatmap(cm_new, annot=True, fmt='.2f', xticklabels = ['Bad credit(1)', 'Good Credit(0)'],\n",
    "           yticklabels = ['Bad credit(1)', 'Good Credit(0)'] )\n",
    "plt.ylabel('True label') \n",
    "plt.xlabel('Predicted label') \n",
    "plt.show()"
   ]
  },
  {
   "cell_type": "code",
   "execution_count": 49,
   "id": "588b5d53",
   "metadata": {},
   "outputs": [
    {
     "name": "stdout",
     "output_type": "stream",
     "text": [
      "              precision    recall  f1-score   support\n",
      "\n",
      "           0       0.98      0.91      0.94      1360\n",
      "           1       0.49      0.83      0.61       140\n",
      "\n",
      "    accuracy                           0.90      1500\n",
      "   macro avg       0.73      0.87      0.78      1500\n",
      "weighted avg       0.93      0.90      0.91      1500\n",
      "\n"
     ]
    }
   ],
   "source": [
    "print(metrics.classification_report( pred_df.Actual_Class, pred_df.Predicted_New ))"
   ]
  },
  {
   "cell_type": "markdown",
   "id": "46b329d0",
   "metadata": {},
   "source": [
    "## Inference\n",
    "With cut-off probability of 0.17, the model is able to classify the bad credits better and the F1-score for \n",
    "bad credits (Y = 1) has also improved from 0.60 to 0.61."
   ]
  },
  {
   "cell_type": "markdown",
   "id": "6b20dc6e",
   "metadata": {},
   "source": [
    "<br><h1 style = \"font-size:35px; font-family:Huihoo ; font-weight : bold; text-align: center; \"> Decision Tree Learning  </h1>"
   ]
  },
  {
   "cell_type": "markdown",
   "id": "1b2c750e",
   "metadata": {},
   "source": [
    "Decision Tree Learning or Classification Trees are a collection of divide and conquer problem-solving\n",
    "strategies that use tree-like (inverted tree in which the root is at the top) structure to predict the value \n",
    "of an outcome variable. The tree starts with the root node consisting of the complete data and thereafter uses intelligent strategies to split the nodes (parent node) into multiple branches (thus, creating children \n",
    "nodes). The original data is divided into subsets in this process. This is done to create more homogenous \n",
    "groups at the children nodes. It is one of the most powerful predictive analytics techniques used for \n",
    "generating business rules."
   ]
  },
  {
   "cell_type": "markdown",
   "id": "9555640a",
   "metadata": {},
   "source": [
    "<H2><p style=\"text-align: center;\"> Step 1: Splitting the Dataset"
   ]
  },
  {
   "cell_type": "code",
   "execution_count": 50,
   "id": "ae902ef6",
   "metadata": {},
   "outputs": [],
   "source": [
    "x=X.drop(['const', 'Experience', 'ZIP Code'], axis=1)"
   ]
  },
  {
   "cell_type": "code",
   "execution_count": 51,
   "id": "465f92d1",
   "metadata": {},
   "outputs": [
    {
     "data": {
      "text/html": [
       "<div>\n",
       "<style scoped>\n",
       "    .dataframe tbody tr th:only-of-type {\n",
       "        vertical-align: middle;\n",
       "    }\n",
       "\n",
       "    .dataframe tbody tr th {\n",
       "        vertical-align: top;\n",
       "    }\n",
       "\n",
       "    .dataframe thead th {\n",
       "        text-align: right;\n",
       "    }\n",
       "</style>\n",
       "<table border=\"1\" class=\"dataframe\">\n",
       "  <thead>\n",
       "    <tr style=\"text-align: right;\">\n",
       "      <th></th>\n",
       "      <th>Age</th>\n",
       "      <th>Income</th>\n",
       "      <th>Family</th>\n",
       "      <th>CCAvg</th>\n",
       "      <th>Mortgage</th>\n",
       "      <th>Securities Account</th>\n",
       "      <th>CD Account</th>\n",
       "      <th>Online</th>\n",
       "      <th>CreditCard</th>\n",
       "      <th>Education_1</th>\n",
       "      <th>Education_2</th>\n",
       "      <th>Education_3</th>\n",
       "    </tr>\n",
       "  </thead>\n",
       "  <tbody>\n",
       "    <tr>\n",
       "      <th>0</th>\n",
       "      <td>25</td>\n",
       "      <td>49</td>\n",
       "      <td>4</td>\n",
       "      <td>1.6</td>\n",
       "      <td>0</td>\n",
       "      <td>1</td>\n",
       "      <td>0</td>\n",
       "      <td>0</td>\n",
       "      <td>0</td>\n",
       "      <td>1</td>\n",
       "      <td>0</td>\n",
       "      <td>0</td>\n",
       "    </tr>\n",
       "    <tr>\n",
       "      <th>1</th>\n",
       "      <td>45</td>\n",
       "      <td>34</td>\n",
       "      <td>3</td>\n",
       "      <td>1.5</td>\n",
       "      <td>0</td>\n",
       "      <td>1</td>\n",
       "      <td>0</td>\n",
       "      <td>0</td>\n",
       "      <td>0</td>\n",
       "      <td>1</td>\n",
       "      <td>0</td>\n",
       "      <td>0</td>\n",
       "    </tr>\n",
       "    <tr>\n",
       "      <th>2</th>\n",
       "      <td>39</td>\n",
       "      <td>11</td>\n",
       "      <td>1</td>\n",
       "      <td>1.0</td>\n",
       "      <td>0</td>\n",
       "      <td>0</td>\n",
       "      <td>0</td>\n",
       "      <td>0</td>\n",
       "      <td>0</td>\n",
       "      <td>1</td>\n",
       "      <td>0</td>\n",
       "      <td>0</td>\n",
       "    </tr>\n",
       "    <tr>\n",
       "      <th>3</th>\n",
       "      <td>35</td>\n",
       "      <td>100</td>\n",
       "      <td>1</td>\n",
       "      <td>2.7</td>\n",
       "      <td>0</td>\n",
       "      <td>0</td>\n",
       "      <td>0</td>\n",
       "      <td>0</td>\n",
       "      <td>0</td>\n",
       "      <td>0</td>\n",
       "      <td>1</td>\n",
       "      <td>0</td>\n",
       "    </tr>\n",
       "    <tr>\n",
       "      <th>4</th>\n",
       "      <td>35</td>\n",
       "      <td>45</td>\n",
       "      <td>4</td>\n",
       "      <td>1.0</td>\n",
       "      <td>0</td>\n",
       "      <td>0</td>\n",
       "      <td>0</td>\n",
       "      <td>0</td>\n",
       "      <td>1</td>\n",
       "      <td>0</td>\n",
       "      <td>1</td>\n",
       "      <td>0</td>\n",
       "    </tr>\n",
       "    <tr>\n",
       "      <th>...</th>\n",
       "      <td>...</td>\n",
       "      <td>...</td>\n",
       "      <td>...</td>\n",
       "      <td>...</td>\n",
       "      <td>...</td>\n",
       "      <td>...</td>\n",
       "      <td>...</td>\n",
       "      <td>...</td>\n",
       "      <td>...</td>\n",
       "      <td>...</td>\n",
       "      <td>...</td>\n",
       "      <td>...</td>\n",
       "    </tr>\n",
       "    <tr>\n",
       "      <th>4995</th>\n",
       "      <td>29</td>\n",
       "      <td>40</td>\n",
       "      <td>1</td>\n",
       "      <td>1.9</td>\n",
       "      <td>0</td>\n",
       "      <td>0</td>\n",
       "      <td>0</td>\n",
       "      <td>1</td>\n",
       "      <td>0</td>\n",
       "      <td>0</td>\n",
       "      <td>0</td>\n",
       "      <td>1</td>\n",
       "    </tr>\n",
       "    <tr>\n",
       "      <th>4996</th>\n",
       "      <td>30</td>\n",
       "      <td>15</td>\n",
       "      <td>4</td>\n",
       "      <td>0.4</td>\n",
       "      <td>85</td>\n",
       "      <td>0</td>\n",
       "      <td>0</td>\n",
       "      <td>1</td>\n",
       "      <td>0</td>\n",
       "      <td>1</td>\n",
       "      <td>0</td>\n",
       "      <td>0</td>\n",
       "    </tr>\n",
       "    <tr>\n",
       "      <th>4997</th>\n",
       "      <td>63</td>\n",
       "      <td>24</td>\n",
       "      <td>2</td>\n",
       "      <td>0.3</td>\n",
       "      <td>0</td>\n",
       "      <td>0</td>\n",
       "      <td>0</td>\n",
       "      <td>0</td>\n",
       "      <td>0</td>\n",
       "      <td>0</td>\n",
       "      <td>0</td>\n",
       "      <td>1</td>\n",
       "    </tr>\n",
       "    <tr>\n",
       "      <th>4998</th>\n",
       "      <td>65</td>\n",
       "      <td>49</td>\n",
       "      <td>3</td>\n",
       "      <td>0.5</td>\n",
       "      <td>0</td>\n",
       "      <td>0</td>\n",
       "      <td>0</td>\n",
       "      <td>1</td>\n",
       "      <td>0</td>\n",
       "      <td>0</td>\n",
       "      <td>1</td>\n",
       "      <td>0</td>\n",
       "    </tr>\n",
       "    <tr>\n",
       "      <th>4999</th>\n",
       "      <td>28</td>\n",
       "      <td>83</td>\n",
       "      <td>3</td>\n",
       "      <td>0.8</td>\n",
       "      <td>0</td>\n",
       "      <td>0</td>\n",
       "      <td>0</td>\n",
       "      <td>1</td>\n",
       "      <td>1</td>\n",
       "      <td>1</td>\n",
       "      <td>0</td>\n",
       "      <td>0</td>\n",
       "    </tr>\n",
       "  </tbody>\n",
       "</table>\n",
       "<p>5000 rows × 12 columns</p>\n",
       "</div>"
      ],
      "text/plain": [
       "      Age  Income  Family  CCAvg  Mortgage  Securities Account  CD Account  \\\n",
       "0      25      49       4    1.6         0                   1           0   \n",
       "1      45      34       3    1.5         0                   1           0   \n",
       "2      39      11       1    1.0         0                   0           0   \n",
       "3      35     100       1    2.7         0                   0           0   \n",
       "4      35      45       4    1.0         0                   0           0   \n",
       "...   ...     ...     ...    ...       ...                 ...         ...   \n",
       "4995   29      40       1    1.9         0                   0           0   \n",
       "4996   30      15       4    0.4        85                   0           0   \n",
       "4997   63      24       2    0.3         0                   0           0   \n",
       "4998   65      49       3    0.5         0                   0           0   \n",
       "4999   28      83       3    0.8         0                   0           0   \n",
       "\n",
       "      Online  CreditCard  Education_1  Education_2  Education_3  \n",
       "0          0           0            1            0            0  \n",
       "1          0           0            1            0            0  \n",
       "2          0           0            1            0            0  \n",
       "3          0           0            0            1            0  \n",
       "4          0           1            0            1            0  \n",
       "...      ...         ...          ...          ...          ...  \n",
       "4995       1           0            0            0            1  \n",
       "4996       1           0            1            0            0  \n",
       "4997       0           0            0            0            1  \n",
       "4998       1           0            0            1            0  \n",
       "4999       1           1            1            0            0  \n",
       "\n",
       "[5000 rows x 12 columns]"
      ]
     },
     "execution_count": 51,
     "metadata": {},
     "output_type": "execute_result"
    }
   ],
   "source": [
    "x"
   ]
  },
  {
   "cell_type": "code",
   "execution_count": 52,
   "id": "d5d6a91f",
   "metadata": {},
   "outputs": [
    {
     "data": {
      "text/plain": [
       "0       0\n",
       "1       0\n",
       "2       0\n",
       "3       0\n",
       "4       0\n",
       "       ..\n",
       "4995    0\n",
       "4996    0\n",
       "4997    0\n",
       "4998    0\n",
       "4999    0\n",
       "Name: Personal Loan, Length: 5000, dtype: int64"
      ]
     },
     "execution_count": 52,
     "metadata": {},
     "output_type": "execute_result"
    }
   ],
   "source": [
    "y"
   ]
  },
  {
   "cell_type": "code",
   "execution_count": 53,
   "id": "4c0f4c1b",
   "metadata": {},
   "outputs": [],
   "source": [
    "from sklearn.model_selection import train_test_split \n",
    "X_train,X_test,y_train,y_test = train_test_split(x, y, test_size = 0.3, random_state =0)"
   ]
  },
  {
   "cell_type": "markdown",
   "id": "9763fa2e",
   "metadata": {},
   "source": [
    "#### Classification tree uses various impurity measures such as the Gini Impurity Index and Entropy to split the nodes. "
   ]
  },
  {
   "cell_type": "markdown",
   "id": "7c03cb23",
   "metadata": {},
   "source": [
    "<H2><p style=\"text-align: center;\"> Step 2: Building Decision Tree Classifier using Gini Criteria"
   ]
  },
  {
   "cell_type": "code",
   "execution_count": 54,
   "id": "ed5321ae",
   "metadata": {},
   "outputs": [],
   "source": [
    "from sklearn.tree import DecisionTreeClassifier\n",
    "\n",
    "loan_tree=DecisionTreeClassifier(criterion ='gini')"
   ]
  },
  {
   "cell_type": "code",
   "execution_count": 55,
   "id": "534f4fc5",
   "metadata": {},
   "outputs": [
    {
     "data": {
      "text/plain": [
       "DecisionTreeClassifier()"
      ]
     },
     "execution_count": 55,
     "metadata": {},
     "output_type": "execute_result"
    }
   ],
   "source": [
    "loan_tree.fit( X_train, y_train )"
   ]
  },
  {
   "cell_type": "markdown",
   "id": "67f2bfa3",
   "metadata": {},
   "source": [
    "### 2 (a). Predicting the Model"
   ]
  },
  {
   "cell_type": "code",
   "execution_count": 56,
   "id": "f312c834",
   "metadata": {},
   "outputs": [],
   "source": [
    "tree_predict=loan_tree.predict(X_test) "
   ]
  },
  {
   "cell_type": "code",
   "execution_count": 57,
   "id": "101d5dbb",
   "metadata": {},
   "outputs": [
    {
     "data": {
      "text/plain": [
       "array([0, 0, 0, ..., 0, 0, 0])"
      ]
     },
     "execution_count": 57,
     "metadata": {},
     "output_type": "execute_result"
    }
   ],
   "source": [
    "tree_predict"
   ]
  },
  {
   "cell_type": "code",
   "execution_count": 58,
   "id": "8774c278",
   "metadata": {},
   "outputs": [
    {
     "data": {
      "text/plain": [
       "398     0\n",
       "3833    0\n",
       "4836    0\n",
       "4572    0\n",
       "636     0\n",
       "       ..\n",
       "4554    0\n",
       "4807    0\n",
       "1073    0\n",
       "2906    0\n",
       "1357    0\n",
       "Name: Personal Loan, Length: 1500, dtype: int64"
      ]
     },
     "execution_count": 58,
     "metadata": {},
     "output_type": "execute_result"
    }
   ],
   "source": [
    "y_test"
   ]
  },
  {
   "cell_type": "markdown",
   "id": "945ca7dc",
   "metadata": {},
   "source": [
    "<H2><p style=\"text-align: center;\"> Step 3: Performance Measures"
   ]
  },
  {
   "cell_type": "code",
   "execution_count": 59,
   "id": "82b987ac",
   "metadata": {},
   "outputs": [],
   "source": [
    "from sklearn.metrics import classification_report,confusion_matrix\n",
    "\n",
    "tree_1_report= classification_report(y_test,tree_predict)"
   ]
  },
  {
   "cell_type": "code",
   "execution_count": 60,
   "id": "f2244f3f",
   "metadata": {},
   "outputs": [
    {
     "name": "stdout",
     "output_type": "stream",
     "text": [
      "The classification report: \n",
      "               precision    recall  f1-score   support\n",
      "\n",
      "           0       0.99      0.99      0.99      1372\n",
      "           1       0.90      0.87      0.88       128\n",
      "\n",
      "    accuracy                           0.98      1500\n",
      "   macro avg       0.94      0.93      0.94      1500\n",
      "weighted avg       0.98      0.98      0.98      1500\n",
      "\n"
     ]
    }
   ],
   "source": [
    "print('The classification report: \\n', tree_1_report)"
   ]
  },
  {
   "cell_type": "code",
   "execution_count": 61,
   "id": "4dfac9d7",
   "metadata": {},
   "outputs": [],
   "source": [
    "loan_tree_cm=confusion_matrix(y_test,tree_predict)"
   ]
  },
  {
   "cell_type": "code",
   "execution_count": 62,
   "id": "8c120cb7",
   "metadata": {},
   "outputs": [
    {
     "data": {
      "image/png": "[encoded data removed]",
      "text/plain": [
       "<Figure size 432x288 with 2 Axes>"
      ]
     },
     "metadata": {
      "needs_background": "light"
     },
     "output_type": "display_data"
    }
   ],
   "source": [
    "def draw_cm( y_test, tree_predict ):\n",
    "\n",
    "    loan_tree_cm = metrics.confusion_matrix( y_test, tree_predict, [1,0] ) \n",
    "sns.heatmap(loan_tree_cm, annot=True, fmt='.2f', xticklabels = ['Good Credit(0)','Bad credit(1)' ],\n",
    "           yticklabels = ['Good Credit(0)','Bad credit(1)' ] )\n",
    "plt.ylabel('True label') \n",
    "plt.xlabel('Predicted label') \n",
    "plt.show()"
   ]
  },
  {
   "cell_type": "markdown",
   "id": "34b80b06",
   "metadata": {},
   "source": [
    "<H2><p style=\"text-align: center;\"> Step 4: Measuring test Accuracy"
   ]
  },
  {
   "cell_type": "markdown",
   "id": "38b0e7ce",
   "metadata": {},
   "source": [
    "Using the model to predict the probability of a bad credit on the test set and obtain ROC AUC score."
   ]
  },
  {
   "cell_type": "code",
   "execution_count": 63,
   "id": "d8dd0484",
   "metadata": {},
   "outputs": [
    {
     "data": {
      "text/plain": [
       "0.928856140670554"
      ]
     },
     "execution_count": 63,
     "metadata": {},
     "output_type": "execute_result"
    }
   ],
   "source": [
    "from sklearn.metrics import roc_curve,roc_auc_score\n",
    "\n",
    "tree_predict = loan_tree.predict( X_test ) \n",
    "roc_auc_score( y_test, tree_predict )"
   ]
  },
  {
   "cell_type": "markdown",
   "id": "e26a347c",
   "metadata": {},
   "source": [
    "## Inference\n",
    "The AUC is 0.93, which implies the model is fairly good."
   ]
  },
  {
   "cell_type": "markdown",
   "id": "bd023f08",
   "metadata": {},
   "source": [
    "<H2><p style=\"text-align: center;\"> Step 5: Displaying the Tree"
   ]
  },
  {
   "cell_type": "code",
   "execution_count": 64,
   "id": "0a41945e",
   "metadata": {},
   "outputs": [],
   "source": [
    "from sklearn import tree\n",
    "from sklearn.model_selection import GridSearchCV"
   ]
  },
  {
   "cell_type": "code",
   "execution_count": 65,
   "id": "8e222e4b",
   "metadata": {},
   "outputs": [
    {
     "data": {
      "image/png": "[encoded data removed]",
      "text/plain": [
       "<Figure size 1800x1080 with 1 Axes>"
      ]
     },
     "metadata": {
      "needs_background": "light"
     },
     "output_type": "display_data"
    }
   ],
   "source": [
    "plt.figure(figsize=(25,15))\n",
    "feature_names = X_train.columns \n",
    "tree.plot_tree(loan_tree,feature_names=feature_names, filled = True, class_names=True, max_depth= 3);"
   ]
  },
  {
   "cell_type": "markdown",
   "id": "c2f28092",
   "metadata": {},
   "source": [
    "## Inference\n",
    "\n",
    "1. At the top node, there are 3500 observations of which 3148 are good credits and 352 are bad credits. The corresponding Gini index is 0.181. Later in the section, the Gini impurity index is explained.\n",
    "2. Income is the most important feature for splitting good and bad credits in the dataset when compared to other features and hence, chosen as the top splitting criteria.\n",
    "3. The first rule (Income <= 98.5) means if the customer has eligible Income or not. \n",
    "4. This rule has split the dataset into two subsets represented by the second level nodes. On the left node, there are 2611 samples (i.e., not having eligible income) and on the right node, there are 889 samples (i.e. having eligible income).\n",
    "5. The nodes represented by dark shades depict good credits, while the nodes represented by light shades are bad credits. \n",
    "6. One of the rules can be interpreted as: If the customer does not have Income and CCAvg is less than 2.95 and does not have CD Account , then there is high probability of being a bad credit. There are 9 records in the dataset that satisfy these conditions and 8 of them have bad credit.\n",
    "7. Another rule: If the customer has eligible Income and Education_1 and Family is more than 2.5, then there is a high probability of being good credit.\n"
   ]
  },
  {
   "cell_type": "markdown",
   "id": "48046665",
   "metadata": {},
   "source": [
    "### 5(a). Understanding Gini Impurity"
   ]
  },
  {
   "cell_type": "markdown",
   "id": "69d1439a",
   "metadata": {},
   "source": [
    "Gini measurement is the probability of a random sample being classified correctly if we randomly pick a label according to the distribution in a branch. Gini impurity can be computed by summing the probability pi of an item with label i being chosentimes the probability 1 − pi of a mistake in categorizing that item over all classes. It reaches its minimum (zero) when all cases in the node belong to a specific category. The Gini impurity index for a classification problem with C classes is given by"
   ]
  },
  {
   "attachments": {
    "Annotation%202021-12-04%20102200.png": {
     "image/png": "[encoded data removed]"
    }
   },
   "cell_type": "markdown",
   "id": "9887b2cf",
   "metadata": {},
   "source": [
    "![Annotation%202021-12-04%20102200.png](attachment:Annotation%202021-12-04%20102200.png)"
   ]
  },
  {
   "cell_type": "code",
   "execution_count": 66,
   "id": "619a8b5e",
   "metadata": {},
   "outputs": [
    {
     "name": "stdout",
     "output_type": "stream",
     "text": [
      "0.1809\n"
     ]
    }
   ],
   "source": [
    "gini_node_1 = 1 - pow(3148/3500, 2) - pow (352/3500, 2) \n",
    "print(round( gini_node_1, 4))"
   ]
  },
  {
   "cell_type": "markdown",
   "id": "39ac84ff",
   "metadata": {},
   "source": [
    "## Inference\n",
    "In the top node the probability of finding good credit is 3148/3500 and finding bad credit is 352/3500.\n",
    "Gini impurity for the top node in the above decision tree will be 0.181"
   ]
  },
  {
   "cell_type": "markdown",
   "id": "4b11d5ff",
   "metadata": {},
   "source": [
    "## Decision Tree"
   ]
  },
  {
   "cell_type": "code",
   "execution_count": 67,
   "id": "1f588c99",
   "metadata": {},
   "outputs": [
    {
     "name": "stdout",
     "output_type": "stream",
     "text": [
      "['Age', 'Income', 'Family', 'CCAvg', 'Mortgage', 'Securities Account', 'CD Account', 'Online', 'CreditCard', 'Education_1', 'Education_2', 'Education_3']\n"
     ]
    }
   ],
   "source": [
    "column_names = list(x.columns)\n",
    "feature_names = column_names\n",
    "print(feature_names)"
   ]
  },
  {
   "cell_type": "code",
   "execution_count": 79,
   "id": "ba878d2c",
   "metadata": {},
   "outputs": [
    {
     "name": "stdout",
     "output_type": "stream",
     "text": [
      " The decision rules are :\n",
      " |--- feature_1 <= 98.50\n",
      "|   |--- feature_3 <= 2.95\n",
      "|   |   |--- class: 0\n",
      "|   |--- feature_3 >  2.95\n",
      "|   |   |--- feature_6 <= 0.50\n",
      "|   |   |   |--- feature_10 <= 0.50\n",
      "|   |   |   |   |--- truncated branch of depth 8\n",
      "|   |   |   |--- feature_10 >  0.50\n",
      "|   |   |   |   |--- truncated branch of depth 6\n",
      "|   |   |--- feature_6 >  0.50\n",
      "|   |   |   |--- feature_3 <= 4.25\n",
      "|   |   |   |   |--- class: 1\n",
      "|   |   |   |--- feature_3 >  4.25\n",
      "|   |   |   |   |--- class: 0\n",
      "|--- feature_1 >  98.50\n",
      "|   |--- feature_9 <= 0.50\n",
      "|   |   |--- feature_1 <= 114.50\n",
      "|   |   |   |--- feature_3 <= 2.95\n",
      "|   |   |   |   |--- truncated branch of depth 8\n",
      "|   |   |   |--- feature_3 >  2.95\n",
      "|   |   |   |   |--- truncated branch of depth 8\n",
      "|   |   |--- feature_1 >  114.50\n",
      "|   |   |   |--- feature_1 <= 116.50\n",
      "|   |   |   |   |--- truncated branch of depth 5\n",
      "|   |   |   |--- feature_1 >  116.50\n",
      "|   |   |   |   |--- class: 1\n",
      "|   |--- feature_9 >  0.50\n",
      "|   |   |--- feature_2 <= 2.50\n",
      "|   |   |   |--- feature_1 <= 100.00\n",
      "|   |   |   |   |--- truncated branch of depth 2\n",
      "|   |   |   |--- feature_1 >  100.00\n",
      "|   |   |   |   |--- truncated branch of depth 5\n",
      "|   |   |--- feature_2 >  2.50\n",
      "|   |   |   |--- feature_1 <= 113.00\n",
      "|   |   |   |   |--- truncated branch of depth 4\n",
      "|   |   |   |--- feature_1 >  113.00\n",
      "|   |   |   |   |--- class: 1\n",
      "\n"
     ]
    }
   ],
   "source": [
    "from sklearn.tree import export_text\n",
    "\n",
    "txt =export_text(loan_tree, max_depth=3)\n",
    "\n",
    "print(' The decision rules are :\\n', txt)"
   ]
  },
  {
   "cell_type": "markdown",
   "id": "858032e9",
   "metadata": {},
   "source": [
    "<H2><p style=\"text-align: center;\"> Step 6: Building Decision Tree using Entropy Criteria"
   ]
  },
  {
   "cell_type": "markdown",
   "id": "37d398fc",
   "metadata": {},
   "source": [
    "Entropy is another popular measure of impurity that is used in classification trees to split a node. Assume \n",
    "that there are J classes labelled 1, 2, …, J. The entropy at node k is given by"
   ]
  },
  {
   "attachments": {
    "Annotation%202021-12-04%20102529.png": {
     "image/png": "[encoded data removed]"
    }
   },
   "cell_type": "markdown",
   "id": "455fa405",
   "metadata": {},
   "source": [
    "![Annotation%202021-12-04%20102529.png](attachment:Annotation%202021-12-04%20102529.png)"
   ]
  },
  {
   "cell_type": "markdown",
   "id": "795bdc83",
   "metadata": {},
   "source": [
    "The value of entropy lies between 0 and 1, with a higher entropy indicating a higher impurity at the \n",
    "node."
   ]
  },
  {
   "cell_type": "code",
   "execution_count": 80,
   "id": "b9601ad1",
   "metadata": {},
   "outputs": [
    {
     "data": {
      "text/plain": [
       "11"
      ]
     },
     "execution_count": 80,
     "metadata": {},
     "output_type": "execute_result"
    }
   ],
   "source": [
    "loan_tree.tree_.max_depth"
   ]
  },
  {
   "cell_type": "code",
   "execution_count": 81,
   "id": "e957833a",
   "metadata": {},
   "outputs": [],
   "source": [
    "# Create a model by changing the parameters\n",
    "\n",
    "tree_2= DecisionTreeClassifier(criterion='entropy')"
   ]
  },
  {
   "cell_type": "code",
   "execution_count": 82,
   "id": "4bf56149",
   "metadata": {},
   "outputs": [
    {
     "data": {
      "text/plain": [
       "DecisionTreeClassifier(criterion='entropy')"
      ]
     },
     "execution_count": 82,
     "metadata": {},
     "output_type": "execute_result"
    }
   ],
   "source": [
    "tree_2"
   ]
  },
  {
   "cell_type": "code",
   "execution_count": 83,
   "id": "d5379a2a",
   "metadata": {},
   "outputs": [],
   "source": [
    "tree_2=tree_2.fit(X_train, y_train)"
   ]
  },
  {
   "cell_type": "code",
   "execution_count": 84,
   "id": "57b07faa",
   "metadata": {},
   "outputs": [],
   "source": [
    "y_pred_2= tree_2.predict(X_test)"
   ]
  },
  {
   "cell_type": "code",
   "execution_count": 85,
   "id": "2ad79f30",
   "metadata": {},
   "outputs": [
    {
     "data": {
      "text/plain": [
       "array([0, 0, 0, ..., 0, 0, 0])"
      ]
     },
     "execution_count": 85,
     "metadata": {},
     "output_type": "execute_result"
    }
   ],
   "source": [
    "y_pred_2"
   ]
  },
  {
   "cell_type": "code",
   "execution_count": 86,
   "id": "3c48c0bb",
   "metadata": {},
   "outputs": [
    {
     "name": "stdout",
     "output_type": "stream",
     "text": [
      "              precision    recall  f1-score   support\n",
      "\n",
      "           0       0.99      0.99      0.99      1372\n",
      "           1       0.94      0.89      0.92       128\n",
      "\n",
      "    accuracy                           0.99      1500\n",
      "   macro avg       0.97      0.94      0.95      1500\n",
      "weighted avg       0.99      0.99      0.99      1500\n",
      "\n"
     ]
    }
   ],
   "source": [
    "report_2= classification_report(y_test,y_pred_2)\n",
    "\n",
    "print(report_2)"
   ]
  },
  {
   "cell_type": "code",
   "execution_count": 87,
   "id": "44f43a66",
   "metadata": {},
   "outputs": [],
   "source": [
    "tree_2_cm=confusion_matrix(y_test,y_pred_2)"
   ]
  },
  {
   "cell_type": "code",
   "execution_count": 88,
   "id": "02a86f01",
   "metadata": {},
   "outputs": [
    {
     "data": {
      "image/png": "[encoded data removed]",
      "text/plain": [
       "<Figure size 432x288 with 2 Axes>"
      ]
     },
     "metadata": {
      "needs_background": "light"
     },
     "output_type": "display_data"
    }
   ],
   "source": [
    "def draw_cm( y_test, y_pred_2 ):\n",
    "\n",
    "    tree_2_cm = metrics.confusion_matrix( y_test, y_pred_2, [1,0] ) \n",
    "sns.heatmap(tree_2_cm, annot=True, fmt='.2f', xticklabels = ['Good Credit(0)','Bad credit(1)' ],\n",
    "           yticklabels = ['Good Credit(0)','Bad credit(1)' ] )\n",
    "plt.ylabel('True label') \n",
    "plt.xlabel('Predicted label') \n",
    "plt.show()"
   ]
  },
  {
   "cell_type": "code",
   "execution_count": 89,
   "id": "a422610e",
   "metadata": {},
   "outputs": [
    {
     "data": {
      "image/png": "[encoded data removed]",
      "text/plain": [
       "<Figure size 1800x1080 with 1 Axes>"
      ]
     },
     "metadata": {
      "needs_background": "light"
     },
     "output_type": "display_data"
    }
   ],
   "source": [
    "plt.figure(figsize=(25,15))\n",
    "tree.plot_tree(tree_2,filled=True,feature_names=feature_names, max_depth=3);"
   ]
  },
  {
   "cell_type": "markdown",
   "id": "ca4a944f",
   "metadata": {},
   "source": [
    "## Inference\n",
    "1. The nodes represented by dark shades depict majority good credits, while the nodes represented by light shades are majority bad credits. \n",
    "2. The rules generated at the top two level nodes are same as rules generated by decision tree built using Gini index. The rules at the third level nodes are different.\n",
    "3. One of the rules can be interpreted as: If the customer has eligible Income, Education of 1 year and Family, then there is a high probability of being good credit. There are 64 customers who satisfy these criteria and 12 of them have good credit.\n"
   ]
  },
  {
   "cell_type": "markdown",
   "id": "996dcb40",
   "metadata": {},
   "source": [
    "### 6 (a). Calculating Entropy"
   ]
  },
  {
   "cell_type": "code",
   "execution_count": 90,
   "id": "d96ebd8f",
   "metadata": {},
   "outputs": [
    {
     "name": "stdout",
     "output_type": "stream",
     "text": [
      "0.470804\n"
     ]
    }
   ],
   "source": [
    "import math\n",
    "\n",
    "entropy_1 = - (3148/3500)*math.log2(3148/3500) - (352/3500)*math.log2(352/3500)\n",
    "print(round( entropy_1, 6))"
   ]
  },
  {
   "cell_type": "markdown",
   "id": "965098d4",
   "metadata": {},
   "source": [
    "## Inference\n",
    "At the top node there are 3500 observations of which 3148 are good credits and 352 are bad credits. At the top of the node, the probability of finding good credit is 3148 and not finding bad credit is 352. So,The entropy at the top node is 0.471"
   ]
  },
  {
   "cell_type": "markdown",
   "id": "cf647b6d",
   "metadata": {},
   "source": [
    "### 6 (b). Measuring Test Accuracy using AUC"
   ]
  },
  {
   "cell_type": "code",
   "execution_count": 91,
   "id": "911adecc",
   "metadata": {},
   "outputs": [],
   "source": [
    "from sklearn.metrics import roc_curve,roc_auc_score"
   ]
  },
  {
   "cell_type": "code",
   "execution_count": 92,
   "id": "65b4871c",
   "metadata": {},
   "outputs": [
    {
     "data": {
      "text/plain": [
       "0.9427614795918369"
      ]
     },
     "execution_count": 92,
     "metadata": {},
     "output_type": "execute_result"
    }
   ],
   "source": [
    "tree_predict =tree_2.predict( X_test ) \n",
    "roc_auc_score( y_test, tree_predict )"
   ]
  },
  {
   "cell_type": "markdown",
   "id": "8bc878fc",
   "metadata": {},
   "source": [
    "## Inference\n",
    "The AUC is 0.938, which implies the model is fairly good."
   ]
  },
  {
   "cell_type": "markdown",
   "id": "8691db3f",
   "metadata": {},
   "source": [
    "<H2><p style=\"text-align: center;\"> Step 7: Finding Optimal Criteria and Max Depth"
   ]
  },
  {
   "cell_type": "code",
   "execution_count": 93,
   "id": "e5254233",
   "metadata": {},
   "outputs": [
    {
     "data": {
      "text/plain": [
       "GridSearchCV(cv=10, estimator=DecisionTreeClassifier(),\n",
       "             param_grid=[{'criterion': ['gini', 'entropy'],\n",
       "                          'max_depth': range(2, 11)}],\n",
       "             scoring='roc_auc')"
      ]
     },
     "execution_count": 93,
     "metadata": {},
     "output_type": "execute_result"
    }
   ],
   "source": [
    "from sklearn.model_selection import GridSearchCV\n",
    "tuned_parameters = [{'criterion': ['gini','entropy'], 'max_depth': range(2,11)}]\n",
    "clf_tree = DecisionTreeClassifier()\n",
    "clf = GridSearchCV(clf_tree,tuned_parameters, cv=10, scoring='roc_auc')\n",
    "clf.fit(X_train, y_train)\n"
   ]
  },
  {
   "cell_type": "code",
   "execution_count": 94,
   "id": "f0265c5c",
   "metadata": {},
   "outputs": [
    {
     "data": {
      "text/plain": [
       "0.99351724150382"
      ]
     },
     "execution_count": 94,
     "metadata": {},
     "output_type": "execute_result"
    }
   ],
   "source": [
    "clf.best_score_"
   ]
  },
  {
   "cell_type": "code",
   "execution_count": 95,
   "id": "6bb32302",
   "metadata": {},
   "outputs": [
    {
     "data": {
      "text/plain": [
       "{'criterion': 'gini', 'max_depth': 3}"
      ]
     },
     "execution_count": 95,
     "metadata": {},
     "output_type": "execute_result"
    }
   ],
   "source": [
    "clf.best_params_"
   ]
  },
  {
   "cell_type": "markdown",
   "id": "ab0f9470",
   "metadata": {},
   "source": [
    "## Inference\n",
    "The tree with Gini criteria and max_depth = 4 is the best model. Finally, we can build a model with these parameters and measure the accuracy of the test."
   ]
  },
  {
   "cell_type": "markdown",
   "id": "bc91c7b5",
   "metadata": {},
   "source": [
    "<H2><p style=\"text-align: center;\"> Step 8: Final Model"
   ]
  },
  {
   "cell_type": "code",
   "execution_count": 96,
   "id": "63dd61fc",
   "metadata": {},
   "outputs": [],
   "source": [
    "tree_3= DecisionTreeClassifier(criterion='gini', max_depth= 4)"
   ]
  },
  {
   "cell_type": "code",
   "execution_count": 97,
   "id": "f9b319f9",
   "metadata": {},
   "outputs": [],
   "source": [
    "tree_3=tree_3.fit(X_train, y_train)"
   ]
  },
  {
   "cell_type": "code",
   "execution_count": 98,
   "id": "719bc7ce",
   "metadata": {},
   "outputs": [],
   "source": [
    "y_pred_3= tree_3.predict(X_test)"
   ]
  },
  {
   "cell_type": "code",
   "execution_count": 99,
   "id": "b28a1921",
   "metadata": {},
   "outputs": [
    {
     "name": "stdout",
     "output_type": "stream",
     "text": [
      "              precision    recall  f1-score   support\n",
      "\n",
      "           0       0.99      0.99      0.99      1372\n",
      "           1       0.91      0.86      0.88       128\n",
      "\n",
      "    accuracy                           0.98      1500\n",
      "   macro avg       0.95      0.93      0.94      1500\n",
      "weighted avg       0.98      0.98      0.98      1500\n",
      "\n"
     ]
    }
   ],
   "source": [
    "report_3= classification_report(y_test,y_pred_3)\n",
    "\n",
    "print(report_3)"
   ]
  },
  {
   "cell_type": "code",
   "execution_count": 100,
   "id": "fc475f41",
   "metadata": {},
   "outputs": [
    {
     "data": {
      "image/png": "[encoded data removed]",
      "text/plain": [
       "<Figure size 1440x720 with 1 Axes>"
      ]
     },
     "metadata": {
      "needs_background": "light"
     },
     "output_type": "display_data"
    }
   ],
   "source": [
    "plt.figure(figsize=(20,10))\n",
    "tree.plot_tree(tree_3,filled=True,feature_names=feature_names, max_depth= 4);"
   ]
  },
  {
   "cell_type": "markdown",
   "id": "afe3102c",
   "metadata": {},
   "source": [
    "## Inference\n",
    "\n",
    "1. Income is the most important feature for splitting good and bad credits in the dataset when compared to other features and hence, chosen as the top splitting criteria.\n",
    "\n",
    "2. The first rule (Income <= 98.5) means if the customer has eligible Income or not. \n",
    "\n",
    "3. This rule has split the dataset into two subsets represented by the second level nodes. On the left node, there are 2611 samples (i.e., not having eligible income) and on the right node, there are 889 samples (i.e. having eligible income).\n",
    " \n",
    "4. One of the rules can be interpreted as: If the customer does not have Income and CCAvg is more than 2.95 and does not have CD Account and education is less than 0.5, then there is high probability of being a bad credit. There are 140 records in the dataset that satisfy these conditions and 14 of them have bad credit.\n",
    "\n",
    "5. Another rule: If the customer has eligible Income and Education_1 and Family is more than 2.5 and Income again is greater than 113, then there is a high probability of being good credit."
   ]
  },
  {
   "cell_type": "code",
   "execution_count": 101,
   "id": "dad82436",
   "metadata": {},
   "outputs": [
    {
     "data": {
      "text/plain": [
       "0.9256787536443147"
      ]
     },
     "execution_count": 101,
     "metadata": {},
     "output_type": "execute_result"
    }
   ],
   "source": [
    "tree_predict_1 =tree_3.predict( X_test ) \n",
    "roc_auc_score( y_test, tree_predict_1 )"
   ]
  },
  {
   "cell_type": "markdown",
   "id": "ea7b8dc7",
   "metadata": {},
   "source": [
    "## Inference\n",
    "The AUC is 0.937, which implies the model is fairly good."
   ]
  },
  {
   "cell_type": "code",
   "execution_count": 102,
   "id": "31b94655",
   "metadata": {},
   "outputs": [],
   "source": [
    "\n",
    "from sklearn.preprocessing import Normalizer\n",
    "from sklearn.model_selection import train_test_split\n",
    "from sklearn.preprocessing import LabelEncoder\n",
    "from sklearn.model_selection import cross_val_score\n",
    "from sklearn.preprocessing import Normalizer\n",
    "from sklearn.feature_extraction.text import TfidfVectorizer\n",
    "from sklearn.model_selection import train_test_split\n",
    "from sklearn.naive_bayes import MultinomialNB\n",
    "from sklearn.naive_bayes import GaussianNB\n",
    "from sklearn.naive_bayes import BernoulliNB\n",
    "from sklearn.svm import SVC\n",
    "from sklearn.neural_network import MLPClassifier\n",
    "from sklearn.ensemble import AdaBoostClassifier\n",
    "from sklearn.tree import DecisionTreeClassifier\n",
    "from sklearn.ensemble import RandomForestClassifier\n",
    "from sklearn.ensemble import GradientBoostingClassifier\n",
    "from sklearn.linear_model import LogisticRegression\n",
    "from sklearn.model_selection import GridSearchCV\n",
    "from sklearn.metrics import accuracy_score, f1_score, confusion_matrix, classification_report\n",
    "%matplotlib inline"
   ]
  },
  {
   "cell_type": "code",
   "execution_count": 103,
   "id": "b2208e72",
   "metadata": {},
   "outputs": [],
   "source": [
    "classifiers = {\n",
    "    #'Multinomial NB': MultinomialNB(), #Does not work for negative values\n",
    "    'Linear SVM': SVC(kernel='linear'),\n",
    "    'RBF SVM': SVC(kernel='rbf'),\n",
    "    'Sigmoid SVM': SVC(kernel='sigmoid'),\n",
    "    #FOR SVM USE HYPERPARAMETER TUNING TO BETTER UNDERSTAND WHAT TO TAKE\n",
    "    'Ada Boost': AdaBoostClassifier(),\n",
    "    'Decision Tree': DecisionTreeClassifier(),\n",
    "    'Random Forest': RandomForestClassifier(),\n",
    "    'Gradient Boosting': GradientBoostingClassifier(),\n",
    "    'Logistic Regression': LogisticRegression()\n",
    "}"
   ]
  },
  {
   "cell_type": "code",
   "execution_count": 104,
   "id": "4deefca7",
   "metadata": {},
   "outputs": [
    {
     "name": "stdout",
     "output_type": "stream",
     "text": [
      "Linear SVM 0.9646666666666667\n",
      "RBF SVM 0.918\n",
      "Sigmoid SVM 0.8946666666666667\n",
      "Ada Boost 0.968\n",
      "Decision Tree 0.9793333333333333\n",
      "Random Forest 0.9846666666666667\n",
      "Gradient Boosting 0.9873333333333333\n",
      "Logistic Regression 0.9593333333333334\n"
     ]
    },
    {
     "name": "stderr",
     "output_type": "stream",
     "text": [
      "/Library/Frameworks/Python.framework/Versions/3.9/lib/python3.9/site-packages/sklearn/linear_model/_logistic.py:814: ConvergenceWarning: lbfgs failed to converge (status=1):\n",
      "STOP: TOTAL NO. of ITERATIONS REACHED LIMIT.\n",
      "\n",
      "Increase the number of iterations (max_iter) or scale the data as shown in:\n",
      "    https://scikit-learn.org/stable/modules/preprocessing.html\n",
      "Please also refer to the documentation for alternative solver options:\n",
      "    https://scikit-learn.org/stable/modules/linear_model.html#logistic-regression\n",
      "  n_iter_i = _check_optimize_result(\n"
     ]
    }
   ],
   "source": [
    "acc_scores = dict()\n",
    "\n",
    "for classifier in classifiers:\n",
    "    \n",
    "    clf = classifiers[classifier]\n",
    "    clf.fit(X_train, y_train)\n",
    "    y_pred = clf.predict(X_test)\n",
    "    acc_scores[classifier] = accuracy_score(y_pred, y_test)\n",
    "    print(classifier, acc_scores[classifier])"
   ]
  },
  {
   "cell_type": "code",
   "execution_count": 105,
   "id": "fixed-avenue",
   "metadata": {},
   "outputs": [
    {
     "data": {
      "text/plain": [
       "array([0])"
      ]
     },
     "execution_count": 105,
     "metadata": {},
     "output_type": "execute_result"
    }
   ],
   "source": [
    "def predict(Age, Income, Family, CCAvg, Mortgage, Securities_Account, CD_Account, Online, CreditCard, Education_1, Education_2, Education_3):\n",
    "  return clf.predict(pd.DataFrame({\n",
    "      \"Age\": [Age],\n",
    "      \"Income\": [Income], \n",
    "      \"Family\": [Family], \n",
    "      \"CCAvg\": [CCAvg], \n",
    "      \"Mortgage\": [Mortgage], \n",
    "      'Securities Account': [Securities_Account], \n",
    "      \"CD Account\": [CD_Account],\n",
    "      \"Online\": [Online],\n",
    "      \"CreditCard\": [CreditCard],\n",
    "      \"Education_1\": [Education_1],\n",
    "      \"Education_2\": [Education_2],\n",
    "      \"Education_3\": [Education_3]\n",
    "  }))\n",
    "\n",
    "predict(*X_test.iloc[143])"
   ]
  },
  {
   "cell_type": "markdown",
   "id": "57442fdb",
   "metadata": {},
   "source": [
    "# Conclusion\n",
    "•\tWe analysed the Personal Loan data by using different models like Logistic Regression and Decision Tree Classifier to build a likelihood of Customer buying Loan.\n",
    "\n",
    "•\tFirst, we built model using Logistic Regression and performance metric used was Recall. The most important features for classification were Income, Education, CD account, Family and CCAvg.\n",
    "\n",
    "•\tSecond, we built model using Decision Tree and performance metric used was Recall. The most important features for classification were same Income, Education, CD account, Family and CCAvg.\n",
    "\n",
    "•\tCoefficient of Income, CCavg, CD account, Family are positive, i.e., a one unit increase in these will lead to increase in chances of a person borrowing loan.\n",
    "\n",
    "•\tCoefficient of Securities account, online, credit card is negative increase in these will lead to decrease in chances of a person borrowing a loan.\n",
    "\n",
    "•\tWe also improved the performance using ROC-AUC curve and optimal threshold. This was best model with high recall and accuracy.\n",
    "\n",
    "•\tDecision tree require less data reprocessing compared to logistic Regression and are easy to understand.\n",
    "\n",
    "•\tIncome, Customers with graduate degree, customers having 3 family members are some of the most important variables in predicting if the customers will purchase a personal loan and if the bank will allow it."
   ]
  },
  {
   "cell_type": "markdown",
   "id": "4698b276",
   "metadata": {},
   "source": [
    "# Recommendation\n",
    "\n",
    "•\tCustomers who have income above 98k dollars, Advance/graduate level education, a family of more than 2, such customers have higher chances of taking personal loans.\n",
    "\n",
    "•\tSo, for this campaign we can have different profiles for customers.\n",
    "\n",
    "•\tHigh Profile Clients: Higher income, Advanced/Graduate level education, 3 /4 Family members, high spending\n",
    "\n",
    "•\tAverage Profile: - Medium income group, Graduate level education.3/4Family members, medium spending\n",
    "\n",
    "•\tLow Profile: Lower income group, undergrads ,3/4Family Member, low spending\n",
    "\n",
    "•\tCustomer Average Spending and Mortgages can also be looked upon as based on EDA and logistic Regression these parameters also play some role in likelihood of buy loan.\n",
    "\n",
    "•\tWe can 1st target high profile customers, by providing them with a personal relationship manager who can address their concerns and can pursue them to buy loan from the bank with completive interest rates.\n",
    "\n",
    "•\tPrequalifying for Loan can also attract more customers.\n",
    "\n",
    "•\tOur 2nd target would be medium profile customers.\n",
    "\n",
    "•\tThe model cannot identify well if there are some exceptional cases when low profile customer is ready to buy a personal loan.\n",
    "\n"
   ]
  }
 ],
 "metadata": {
  "kernelspec": {
   "display_name": "Python 3",
   "language": "python",
   "name": "python3"
  },
  "language_info": {
   "codemirror_mode": {
    "name": "ipython",
    "version": 3
   },
   "file_extension": ".py",
   "mimetype": "text/x-python",
   "name": "python",
   "nbconvert_exporter": "python",
   "pygments_lexer": "ipython3",
   "version": "3.9.1"
  }
 },
 "nbformat": 4,
 "nbformat_minor": 5
}
